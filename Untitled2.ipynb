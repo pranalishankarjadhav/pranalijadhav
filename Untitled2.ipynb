{
  "nbformat": 4,
  "nbformat_minor": 0,
  "metadata": {
    "colab": {
      "provenance": [],
      "authorship_tag": "ABX9TyNeTddUTL2U60aeQKRyCdRk",
      "include_colab_link": true
    },
    "kernelspec": {
      "name": "python3",
      "display_name": "Python 3"
    },
    "language_info": {
      "name": "python"
    }
  },
  "cells": [
    {
      "cell_type": "markdown",
      "metadata": {
        "id": "view-in-github",
        "colab_type": "text"
      },
      "source": [
        "<a href=\"https://colab.research.google.com/github/pranalishankarjadhav/pranalijadhav/blob/main/Untitled2.ipynb\" target=\"_parent\"><img src=\"https://colab.research.google.com/assets/colab-badge.svg\" alt=\"Open In Colab\"/></a>"
      ]
    },
    {
      "cell_type": "code",
      "execution_count": null,
      "metadata": {
        "colab": {
          "base_uri": "https://localhost:8080/"
        },
        "id": "qxoWDx46sc3I",
        "outputId": "b461440b-7364-434a-d192-0d759623a128"
      },
      "outputs": [
        {
          "output_type": "stream",
          "name": "stdout",
          "text": [
            "OK\n"
          ]
        }
      ],
      "source": [
        "#check the if num is greater than 50\n",
        "num=70\n",
        "if num>50:\n",
        "  print(\"OK\")\n",
        "\n"
      ]
    },
    {
      "cell_type": "code",
      "source": [
        "#except number from user\n",
        "num=int(input(\"Enter the number:\"))\n",
        "if num>50:\n",
        "  print(\"Ok\")"
      ],
      "metadata": {
        "colab": {
          "base_uri": "https://localhost:8080/"
        },
        "id": "HKONjZAgtYXp",
        "outputId": "8e9b06bf-b602-42ca-fa20-2eed0862ebed"
      },
      "execution_count": null,
      "outputs": [
        {
          "output_type": "stream",
          "name": "stdout",
          "text": [
            "Enter the number:60\n",
            "Ok\n"
          ]
        }
      ]
    },
    {
      "cell_type": "code",
      "source": [
        "#positive or negative\n",
        "num=int(input(\"Enter the number=\"))\n",
        "if num>0:\n",
        "  print(\"Number is positive\")\n",
        "  print(\"Ok\")\n",
        "else:\n",
        "  print(\"Number is negative\")\n",
        "  print(\"Goodbye\")"
      ],
      "metadata": {
        "colab": {
          "base_uri": "https://localhost:8080/"
        },
        "id": "stALjccEuk3W",
        "outputId": "54bb7e40-f977-4062-b017-0b1ffdd689eb"
      },
      "execution_count": null,
      "outputs": [
        {
          "output_type": "stream",
          "name": "stdout",
          "text": [
            "Enter the number=33\n",
            "Number is positive\n",
            "Ok\n"
          ]
        }
      ]
    },
    {
      "cell_type": "code",
      "source": [
        "#for zero positive or nagative\n",
        "num=int(input(\"Enter the number:\"))\n",
        "if num>0:\n",
        "  print(\"positive number\")\n",
        "elif num==0:\n",
        "  print(\"Zero is nither positive or nor negative\")\n",
        "else:\n",
        "  print(\"Negative number\")"
      ],
      "metadata": {
        "colab": {
          "base_uri": "https://localhost:8080/"
        },
        "id": "houkO-8DvMAn",
        "outputId": "2bf678fe-c825-4116-da77-98a4aefeb874"
      },
      "execution_count": null,
      "outputs": [
        {
          "output_type": "stream",
          "name": "stdout",
          "text": [
            "Enter the number:0\n",
            "Zero is nither positive or nor negative\n"
          ]
        }
      ]
    },
    {
      "cell_type": "code",
      "source": [
        "#check num is odd or even\n",
        "num=int(input(\"Enter the number=\"))\n",
        "if num%2==0:\n",
        "  print(\"Number is Even\")\n",
        "else:\n",
        "  print(\"Number is Even\")"
      ],
      "metadata": {
        "colab": {
          "base_uri": "https://localhost:8080/"
        },
        "id": "OY01Zj5cwmNp",
        "outputId": "b4567074-8200-466b-d55f-f7280d5d1026"
      },
      "execution_count": null,
      "outputs": [
        {
          "output_type": "stream",
          "name": "stdout",
          "text": [
            "Enter the number=4\n",
            "Number is Even\n"
          ]
        }
      ]
    },
    {
      "cell_type": "code",
      "source": [
        "int(True)"
      ],
      "metadata": {
        "colab": {
          "base_uri": "https://localhost:8080/"
        },
        "id": "QqlNvGuVxFwW",
        "outputId": "0bf022e0-3043-4ac0-8b9e-e0bb37262fcc"
      },
      "execution_count": null,
      "outputs": [
        {
          "output_type": "execute_result",
          "data": {
            "text/plain": [
              "1"
            ]
          },
          "metadata": {},
          "execution_count": 8
        }
      ]
    },
    {
      "cell_type": "code",
      "source": [
        "int(False)"
      ],
      "metadata": {
        "colab": {
          "base_uri": "https://localhost:8080/"
        },
        "id": "hQg9wWzKxLuw",
        "outputId": "e96c0b51-fc1f-4fa8-e686-0720f68cd290"
      },
      "execution_count": null,
      "outputs": [
        {
          "output_type": "execute_result",
          "data": {
            "text/plain": [
              "0"
            ]
          },
          "metadata": {},
          "execution_count": 9
        }
      ]
    },
    {
      "cell_type": "code",
      "source": [
        "True+True-False"
      ],
      "metadata": {
        "colab": {
          "base_uri": "https://localhost:8080/"
        },
        "id": "dR6luwoQxTAe",
        "outputId": "45e03ae6-a220-41e1-8597-23946227ba10"
      },
      "execution_count": null,
      "outputs": [
        {
          "output_type": "execute_result",
          "data": {
            "text/plain": [
              "2"
            ]
          },
          "metadata": {},
          "execution_count": 10
        }
      ]
    },
    {
      "cell_type": "code",
      "source": [
        "a=12\n",
        "if a:\n",
        "  print(\"!!!!\")"
      ],
      "metadata": {
        "colab": {
          "base_uri": "https://localhost:8080/"
        },
        "id": "NsdVXUpaxYR-",
        "outputId": "078b8261-aad6-46ad-da7b-bc828b1831be"
      },
      "execution_count": null,
      "outputs": [
        {
          "output_type": "stream",
          "name": "stdout",
          "text": [
            "!!!!\n"
          ]
        }
      ]
    },
    {
      "cell_type": "code",
      "source": [
        "#check if the num is between 50 and 150\n",
        "num=int(input(\"Enter the number=\"))\n",
        "if num>50:\n",
        "  if num<150:\n",
        "    print(\"correct\")\n",
        "  else:\n",
        "    print(\"Greater than 50\")\n",
        "else:\n",
        "    print(\"Incorrect\")"
      ],
      "metadata": {
        "colab": {
          "base_uri": "https://localhost:8080/"
        },
        "id": "YAS26316xnMT",
        "outputId": "a08553c4-49e7-4895-cf19-616ec596178b"
      },
      "execution_count": null,
      "outputs": [
        {
          "output_type": "stream",
          "name": "stdout",
          "text": [
            "Enter the number=160\n",
            "Greater than 50\n"
          ]
        }
      ]
    },
    {
      "cell_type": "code",
      "source": [
        "#using operater\n",
        "num=int(input(\"Enter the number=\"))\n",
        "if num>50 and num<150:\n",
        "  print(\"Correct\")\n",
        "else:\n",
        "  print(\"Incorrct\")\n"
      ],
      "metadata": {
        "colab": {
          "base_uri": "https://localhost:8080/"
        },
        "id": "xRhh9XiNypVJ",
        "outputId": "4a0fd9ba-fc15-4d6e-8f11-6bc983a0b18a"
      },
      "execution_count": null,
      "outputs": [
        {
          "output_type": "stream",
          "name": "stdout",
          "text": [
            "Enter the number=12\n",
            "Incorrct\n"
          ]
        }
      ]
    },
    {
      "cell_type": "code",
      "source": [],
      "metadata": {
        "id": "3PZW74iXzXEb"
      },
      "execution_count": null,
      "outputs": []
    }
  ]
}