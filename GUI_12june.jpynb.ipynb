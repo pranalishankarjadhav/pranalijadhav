{
 "cells": [
  {
   "cell_type": "code",
   "execution_count": 1,
   "id": "f3410b49",
   "metadata": {},
   "outputs": [],
   "source": [
    "import tkinter as tk"
   ]
  },
  {
   "cell_type": "code",
   "execution_count": 18,
   "id": "1e23c934",
   "metadata": {},
   "outputs": [],
   "source": [
    "top=tk.Tk()\n",
    "top.title('My Application')#for window name\n",
    "top.geometry('700x500')#for window size\n",
    "#grid,pack,place are the position of button placed\n",
    "'''b1=tk.Button(top, text='Click me!!',bg='Red').pack()\n",
    "e1=tk.Entry(top).pack()\n",
    "e1=tk.Text(top).pack()'''\n",
    "\n",
    "'''b1=tk.Button(top, text='Click me!!',bg='Red').grid(column=0,row=0)\n",
    "e1=tk.Entry(top).grid(column=1,row=0)\n",
    "e1=tk.Text(top).grid(column=2,row=2)'''\n",
    "\n",
    "b1=tk.Button(top, text='Click me!!',bg='Red').place(x=100,y=150)\n",
    "e1=tk.Entry(top).place(x=100,y=100)\n",
    "e1=tk.Text(top).place(x=100,y=200)\n",
    "\n",
    "top.mainloop()\n",
    "\n"
   ]
  },
  {
   "cell_type": "code",
   "execution_count": null,
   "id": "b9c77e7f",
   "metadata": {},
   "outputs": [],
   "source": []
  }
 ],
 "metadata": {
  "kernelspec": {
   "display_name": "Python 3 (ipykernel)",
   "language": "python",
   "name": "python3"
  },
  "language_info": {
   "codemirror_mode": {
    "name": "ipython",
    "version": 3
   },
   "file_extension": ".py",
   "mimetype": "text/x-python",
   "name": "python",
   "nbconvert_exporter": "python",
   "pygments_lexer": "ipython3",
   "version": "3.11.7"
  }
 },
 "nbformat": 4,
 "nbformat_minor": 5
}
