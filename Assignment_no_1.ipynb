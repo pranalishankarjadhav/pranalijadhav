{
  "nbformat": 4,
  "nbformat_minor": 0,
  "metadata": {
    "colab": {
      "provenance": [],
      "authorship_tag": "ABX9TyOQUeIcXJCdFqDyNTiC8Xdv",
      "include_colab_link": true
    },
    "kernelspec": {
      "name": "python3",
      "display_name": "Python 3"
    },
    "language_info": {
      "name": "python"
    }
  },
  "cells": [
    {
      "cell_type": "markdown",
      "metadata": {
        "id": "view-in-github",
        "colab_type": "text"
      },
      "source": [
        "<a href=\"https://colab.research.google.com/github/pranalishankarjadhav/pranalijadhav/blob/main/Assignment_no_1.ipynb\" target=\"_parent\"><img src=\"https://colab.research.google.com/assets/colab-badge.svg\" alt=\"Open In Colab\"/></a>"
      ]
    },
    {
      "cell_type": "code",
      "execution_count": null,
      "metadata": {
        "colab": {
          "base_uri": "https://localhost:8080/"
        },
        "id": "B7VrV8kaIHUZ",
        "outputId": "7c12b784-c959-4343-e194-4c3882433c62"
      },
      "outputs": [
        {
          "output_type": "stream",
          "name": "stdout",
          "text": [
            "Enter the days400\n",
            "Conversion is: 1.095890410958904 : 5.0 : 35\n"
          ]
        }
      ],
      "source": [
        "'''1)Write a program to convert specified days into years ,weeks and days\n",
        "     Take user input (note:ignore leap years)\n",
        "     '''\n",
        "day=int(input(\"Enter the days\"))\n",
        "year=day/365\n",
        "weak=(day%365)/7\n",
        "rem_days=day%365\n",
        "print(\"Conversion is:\",year,\":\",weak,\":\",rem_days)\n",
        "\n",
        "\n"
      ]
    },
    {
      "cell_type": "code",
      "source": [
        "'''2)Write a phthon program to input basic salary of an employees and calculate its gross salary\n",
        "according to following\n",
        "Basic salary<=10000:HRA=20%,Da=80%\n",
        "Basic salary<=20000:HRA=30%,Da=90%\n",
        "Basic salary>20000:HRA=35%,Da=95%\n",
        "'''\n",
        "Basic_Sal=int(input(\"Enter the salary=\"))\n",
        "if Basic_Sal<=10000:\n",
        "   HRA=(Basic_Sal*20)/100\n",
        "   DA=(Basic_Sal*80)/100\n",
        "   Gross_Salary=Basic_Sal+HRA+DA\n",
        "   print(\"Total Gross Salary=\",Gross_Salary)\n",
        "elif Basic_Sal<=20000:\n",
        "     HRA=(Basic_Sal*30)/100\n",
        "     DA=(Basic_Sal*90)/100\n",
        "     Gross_Salary=Basic_Sal+HRA+DA\n",
        "     print(\"Total Gross Salary=\",Gross_Salary)\n",
        "else:\n",
        "  if Basic_Sal>20000:\n",
        "    HRA=(Basic_Sal*35)/100\n",
        "    DA=(Basic_Sal*95)/100\n",
        "    Gross_Salary=Basic_Sal+HRA+DA\n",
        "    print(\"Total Gross Salary=\",Gross_Salary)"
      ],
      "metadata": {
        "id": "4xgBLqmkJpqZ",
        "colab": {
          "base_uri": "https://localhost:8080/"
        },
        "outputId": "6ed5cfda-1671-4981-8a11-99544465b42b"
      },
      "execution_count": null,
      "outputs": [
        {
          "output_type": "stream",
          "name": "stdout",
          "text": [
            "Enter the salary=35000\n",
            "Total Gross Salary= 80500.0\n"
          ]
        }
      ]
    },
    {
      "cell_type": "code",
      "source": [
        "'''3)Write a python program input electricity unit charges to an calculate\n",
        "total electricity bill according to given conditions\n",
        "For first 50 units Rs.0.50/units\n",
        "For next 100 units Rs.0.75/units\n",
        "For next 50 units Rs.1.25/units\n",
        "For unit above 250 Rs.1.50/units\n",
        "An additional surchanged of 17% is added to the bill\n",
        "'''\n",
        "units=float(input('Enter num of units'))\n",
        "if units <= 50:\n",
        "        bill = units * 0.50\n",
        "\n",
        "elif units<=150:\n",
        "        bill = (50 * 0.50) + ((units - 50) * 0.75)\n",
        "\n",
        "elif units<=250:\n",
        "        bill = (50 * 0.50) + (100 * 0.75) + ((units - 150) * 1.25)\n",
        "\n",
        "else:\n",
        "        bill = (50 * 0.50) + (100 * 0.75) + (100 * 1.25) + ((units - 250) * 1.50)\n",
        "\n",
        "charge=bill*0.17\n",
        "tot_bill=bill+charge\n",
        "print(tot_bill)"
      ],
      "metadata": {
        "colab": {
          "base_uri": "https://localhost:8080/"
        },
        "id": "L7P4Rrc3SdDG",
        "outputId": "fdebc788-fa86-4fbb-8f43-8a7d109ea42e"
      },
      "execution_count": null,
      "outputs": [
        {
          "output_type": "stream",
          "name": "stdout",
          "text": [
            "Enter num of units150\n",
            "Your total bill is: 100.0\n",
            "Your Total bill is: 117.0\n"
          ]
        }
      ]
    },
    {
      "cell_type": "code",
      "source": [
        "'''4)Write a python program to print the given number patterns\n",
        "      1\n",
        "      2 2\n",
        "      3 3 3\n",
        "      4 4 4 4\n",
        "      5 5 5 5 5'''\n",
        "rows=int(input(\"Enter the rows=\"))\n",
        "for i in range(rows):\n",
        "   for j in range(i+1):\n",
        "      print(i+1,end=\" \")\n",
        "   print()"
      ],
      "metadata": {
        "colab": {
          "base_uri": "https://localhost:8080/"
        },
        "id": "ATWsxqmedC08",
        "outputId": "997e1076-670e-40c7-de39-1471548ca2d6"
      },
      "execution_count": null,
      "outputs": [
        {
          "output_type": "stream",
          "name": "stdout",
          "text": [
            "Enter the rows=5\n",
            "1 \n",
            "2 2 \n",
            "3 3 3 \n",
            "4 4 4 4 \n",
            "5 5 5 5 5 \n"
          ]
        }
      ]
    },
    {
      "cell_type": "code",
      "source": [
        "'''5)Write a python program to calculate  product  of digit of numbers ,read the value from user\n",
        "'''\n",
        "num=int(input(\"Enter the number=\"))\n",
        "pod=1\n",
        "while num>0:\n",
        "    rem=num%10\n",
        "    pod=pod*rem\n",
        "    num=num//10\n",
        "print(\"Addition of digit is:\",pod)\n",
        "\n"
      ],
      "metadata": {
        "id": "PErPY1kuio_X",
        "colab": {
          "base_uri": "https://localhost:8080/"
        },
        "outputId": "f81863ce-ee74-465c-ef4e-fc2ff6397371"
      },
      "execution_count": null,
      "outputs": [
        {
          "output_type": "stream",
          "name": "stdout",
          "text": [
            "Enter the number=12345\n",
            "Addition of digit is: 120\n"
          ]
        }
      ]
    },
    {
      "cell_type": "code",
      "source": [
        "'''6)create a list of elements like:x=[45,67,12,'Hello',23.45,'World']and\n",
        "perform following operations\n",
        "1.Extract only string values from this least.\n",
        "2.create a new list with string in upper case.\n",
        "3.find the addition of integer values.\n",
        "4.Check that the value 56 is present in it or not.\n",
        "5.Print the list in reverse order.\n",
        "6.Delete the string 'Hello' from it.\n",
        "7.insert a  new value of 36 at 5th position in list.\n",
        "8.Count total number of element in list now.\n",
        "9.Extract the value from2nd index from to 5th index.\n",
        "10.Append[34,'pune']to this list\n",
        "11.Delete the last element from the list.\n",
        "'''\n",
        "#least created\n",
        "x=[45,67,12,'Hello',23.45,'World']\n",
        "x"
      ],
      "metadata": {
        "id": "TXnuAuGqlmwz",
        "colab": {
          "base_uri": "https://localhost:8080/"
        },
        "outputId": "158ee7fd-4276-451c-8e75-38e7e3bda638"
      },
      "execution_count": null,
      "outputs": [
        {
          "output_type": "execute_result",
          "data": {
            "text/plain": [
              "[45, 67, 12, 'Hello', 23.45, 'World']"
            ]
          },
          "metadata": {},
          "execution_count": 6
        }
      ]
    },
    {
      "cell_type": "code",
      "source": [
        "#1Extract only string values from this least.\n",
        "string_values = [item for item in x if isinstance(item, str)]\n",
        "\n",
        "print(string_values)"
      ],
      "metadata": {
        "colab": {
          "base_uri": "https://localhost:8080/"
        },
        "id": "gmEyAJ6YR6bE",
        "outputId": "fb6856d4-56af-4ab7-fba4-ab208cf61a97"
      },
      "execution_count": null,
      "outputs": [
        {
          "output_type": "stream",
          "name": "stdout",
          "text": [
            "['Hello', 'World']\n"
          ]
        }
      ]
    },
    {
      "cell_type": "code",
      "source": [
        "#2.create a new list with string in upper case.\n",
        "l=['pranali','amruta','sneha','dnyaneshwari','pranali']\n",
        "l\n",
        "[n.upper() for n in l]"
      ],
      "metadata": {
        "colab": {
          "base_uri": "https://localhost:8080/"
        },
        "id": "NHApd0-XUGdE",
        "outputId": "99dc0925-b680-4516-c42e-f7e718669e74"
      },
      "execution_count": null,
      "outputs": [
        {
          "output_type": "execute_result",
          "data": {
            "text/plain": [
              "['PRANALI', 'AMRUTA', 'SNEHA', 'DNYANESHWARI', 'PRANALI']"
            ]
          },
          "metadata": {},
          "execution_count": 65
        }
      ]
    },
    {
      "cell_type": "code",
      "source": [
        "#3..find the addition of integer values.\n",
        "x=[45,67,12,'Hello',23.45,'World']\n",
        "sum = 0\n",
        "\n",
        "for i in x:\n",
        "    if isinstance(i, int):\n",
        "        sum += i\n",
        "\n",
        "print(\"Sum of integer values in the list:\", sum)\n",
        "\n",
        "\n"
      ],
      "metadata": {
        "colab": {
          "base_uri": "https://localhost:8080/"
        },
        "id": "komWfPBzVXtf",
        "outputId": "72f9f40c-721a-4eab-c610-10e3ba1f348b"
      },
      "execution_count": null,
      "outputs": [
        {
          "output_type": "stream",
          "name": "stdout",
          "text": [
            "Sum of integer values in the list: 124\n"
          ]
        }
      ]
    },
    {
      "cell_type": "code",
      "source": [
        "#4..Check that the value 56 is present in it or not.\n",
        "56 in x"
      ],
      "metadata": {
        "colab": {
          "base_uri": "https://localhost:8080/"
        },
        "id": "8dRf0qRRZMIj",
        "outputId": "8e92a035-feeb-409b-df83-98105817bcd9"
      },
      "execution_count": null,
      "outputs": [
        {
          "output_type": "execute_result",
          "data": {
            "text/plain": [
              "False"
            ]
          },
          "metadata": {},
          "execution_count": 67
        }
      ]
    },
    {
      "cell_type": "code",
      "source": [
        "#5.Print the list in reverse order.\n",
        "x\n"
      ],
      "metadata": {
        "colab": {
          "base_uri": "https://localhost:8080/"
        },
        "id": "dhDJdV5cZdsu",
        "outputId": "0dd77d30-e62c-497d-871a-c4983b1e19ea"
      },
      "execution_count": null,
      "outputs": [
        {
          "output_type": "execute_result",
          "data": {
            "text/plain": [
              "[45, 67, 12, 'Hello', 23.45, 'World']"
            ]
          },
          "metadata": {},
          "execution_count": 68
        }
      ]
    },
    {
      "cell_type": "code",
      "source": [
        "\n",
        "x.reverse()\n"
      ],
      "metadata": {
        "id": "SKVpocdMaYBs"
      },
      "execution_count": null,
      "outputs": []
    },
    {
      "cell_type": "code",
      "source": [
        "x"
      ],
      "metadata": {
        "colab": {
          "base_uri": "https://localhost:8080/"
        },
        "id": "NY_bGTGKamxn",
        "outputId": "c9d8a1f2-5a84-4568-ac85-555e03db1fa3"
      },
      "execution_count": null,
      "outputs": [
        {
          "output_type": "execute_result",
          "data": {
            "text/plain": [
              "['World', 23.45, 'Hello', 12, 67, 45]"
            ]
          },
          "metadata": {},
          "execution_count": 70
        }
      ]
    },
    {
      "cell_type": "code",
      "source": [
        "#6.Delete the string 'Hello' from it.\n",
        "x.remove('Hello')"
      ],
      "metadata": {
        "id": "nCZAWB1lbg2-"
      },
      "execution_count": null,
      "outputs": []
    },
    {
      "cell_type": "code",
      "source": [
        "x"
      ],
      "metadata": {
        "colab": {
          "base_uri": "https://localhost:8080/"
        },
        "id": "2PsfuHzrbpPH",
        "outputId": "bfedeb3f-3ffc-4d85-e9cd-a48c192dd1e1"
      },
      "execution_count": null,
      "outputs": [
        {
          "output_type": "execute_result",
          "data": {
            "text/plain": [
              "['World', 23.45, 12, 67, 45]"
            ]
          },
          "metadata": {},
          "execution_count": 72
        }
      ]
    },
    {
      "cell_type": "code",
      "source": [
        "#7.insert a  new value of 36 at 5th position in list.\n",
        "x.insert(5,36)"
      ],
      "metadata": {
        "id": "l5QRZSJ6b_Xf"
      },
      "execution_count": null,
      "outputs": []
    },
    {
      "cell_type": "code",
      "source": [
        "x"
      ],
      "metadata": {
        "colab": {
          "base_uri": "https://localhost:8080/"
        },
        "id": "CpV1XVBxhDya",
        "outputId": "3909aba7-e214-42cf-dbe2-eae09e01b607"
      },
      "execution_count": null,
      "outputs": [
        {
          "output_type": "execute_result",
          "data": {
            "text/plain": [
              "['World', 23.45, 12, 67, 45, 36]"
            ]
          },
          "metadata": {},
          "execution_count": 74
        }
      ]
    },
    {
      "cell_type": "code",
      "source": [
        "#8.Count total number of element in list now.\n",
        "x=[45,67,12,'Hello',23.45,'World']\n",
        "x"
      ],
      "metadata": {
        "colab": {
          "base_uri": "https://localhost:8080/"
        },
        "id": "rWNZbg-CdJI3",
        "outputId": "07faff02-1ca3-4f0b-af22-8043b9967bd1"
      },
      "execution_count": null,
      "outputs": [
        {
          "output_type": "execute_result",
          "data": {
            "text/plain": [
              "[45, 67, 12, 'Hello', 23.45, 'World']"
            ]
          },
          "metadata": {},
          "execution_count": 75
        }
      ]
    },
    {
      "cell_type": "code",
      "source": [
        "len(x)"
      ],
      "metadata": {
        "colab": {
          "base_uri": "https://localhost:8080/"
        },
        "id": "FvmZI5WpdSVj",
        "outputId": "89bcb38a-4e17-48f8-f1d2-9ff3bea76b56"
      },
      "execution_count": null,
      "outputs": [
        {
          "output_type": "execute_result",
          "data": {
            "text/plain": [
              "6"
            ]
          },
          "metadata": {},
          "execution_count": 76
        }
      ]
    },
    {
      "cell_type": "code",
      "source": [
        "#9.Extract the value from2nd index from to 5th index.\n",
        "x[2:6]"
      ],
      "metadata": {
        "colab": {
          "base_uri": "https://localhost:8080/"
        },
        "id": "LZl73WaGeQPz",
        "outputId": "a14c6e60-a411-4731-fde7-ca7bb365d0cd"
      },
      "execution_count": null,
      "outputs": [
        {
          "output_type": "execute_result",
          "data": {
            "text/plain": [
              "[12, 'Hello', 23.45, 'World']"
            ]
          },
          "metadata": {},
          "execution_count": 77
        }
      ]
    },
    {
      "cell_type": "code",
      "source": [
        "#10.Append[34,'pune']to this list\n",
        "x.append([34,'pune'])"
      ],
      "metadata": {
        "id": "FUFHkPcwhPcj"
      },
      "execution_count": null,
      "outputs": []
    },
    {
      "cell_type": "code",
      "source": [
        "x"
      ],
      "metadata": {
        "colab": {
          "base_uri": "https://localhost:8080/"
        },
        "id": "-vyTS9jKhZyI",
        "outputId": "c666a9b6-198b-4dd6-fa40-f997a8fd5621"
      },
      "execution_count": null,
      "outputs": [
        {
          "output_type": "execute_result",
          "data": {
            "text/plain": [
              "[45, 67, 12, 'Hello', 23.45, 'World', [34, 'pune']]"
            ]
          },
          "metadata": {},
          "execution_count": 80
        }
      ]
    },
    {
      "cell_type": "code",
      "source": [
        "#11.Delete the last element from the list.\n",
        "x=[45,67,12,'Hello',23.45,'World']\n",
        "x"
      ],
      "metadata": {
        "colab": {
          "base_uri": "https://localhost:8080/"
        },
        "id": "lDIj_8KwhlTS",
        "outputId": "288755a2-2a7b-4244-c624-acd2256dd4c1"
      },
      "execution_count": null,
      "outputs": [
        {
          "output_type": "execute_result",
          "data": {
            "text/plain": [
              "[45, 67, 12, 'Hello', 23.45, 'World']"
            ]
          },
          "metadata": {},
          "execution_count": 82
        }
      ]
    },
    {
      "cell_type": "code",
      "source": [
        "x.pop()"
      ],
      "metadata": {
        "colab": {
          "base_uri": "https://localhost:8080/",
          "height": 36
        },
        "id": "Giav1wxZh7WM",
        "outputId": "d1cf2bb5-ef9a-45fe-b2cd-735dd4685a45"
      },
      "execution_count": null,
      "outputs": [
        {
          "output_type": "execute_result",
          "data": {
            "text/plain": [
              "'World'"
            ],
            "application/vnd.google.colaboratory.intrinsic+json": {
              "type": "string"
            }
          },
          "metadata": {},
          "execution_count": 83
        }
      ]
    },
    {
      "cell_type": "code",
      "source": [
        "'''7)create tuple of element with 5 float values in it and perform following operations\n",
        "1.print the data in sorted manner\n",
        "2.check to see that the element 50 present it\n",
        "3.convert this tuple in set\n",
        "'''\n",
        "# tuple create\n",
        "t=(1.5,2.5,0.5,8.5,5.5)"
      ],
      "metadata": {
        "id": "aSEDLrvbmUeh"
      },
      "execution_count": null,
      "outputs": []
    },
    {
      "cell_type": "code",
      "source": [
        "t"
      ],
      "metadata": {
        "colab": {
          "base_uri": "https://localhost:8080/"
        },
        "id": "Pi-2D7V9nZ5-",
        "outputId": "3738bf96-9df7-4760-eef7-c349752d3504"
      },
      "execution_count": null,
      "outputs": [
        {
          "output_type": "execute_result",
          "data": {
            "text/plain": [
              "(1.5, 2.5, 0.5, 8.5, 5.5)"
            ]
          },
          "metadata": {},
          "execution_count": 42
        }
      ]
    },
    {
      "cell_type": "code",
      "source": [
        "#1.print the data in sorted manner\n",
        "t1=list(t)"
      ],
      "metadata": {
        "id": "bJD1vn9ZneTv"
      },
      "execution_count": null,
      "outputs": []
    },
    {
      "cell_type": "code",
      "source": [
        "t1.sort()"
      ],
      "metadata": {
        "id": "-ORDDDaynwaQ"
      },
      "execution_count": null,
      "outputs": []
    },
    {
      "cell_type": "code",
      "source": [
        "t1"
      ],
      "metadata": {
        "colab": {
          "base_uri": "https://localhost:8080/"
        },
        "id": "L1TrA46KoK-l",
        "outputId": "d8948aa4-df99-42de-fd73-5268d90e21c9"
      },
      "execution_count": null,
      "outputs": [
        {
          "output_type": "execute_result",
          "data": {
            "text/plain": [
              "[0.5, 1.5, 2.5, 5.5, 8.5]"
            ]
          },
          "metadata": {},
          "execution_count": 47
        }
      ]
    },
    {
      "cell_type": "code",
      "source": [
        "#2.check to see that the element 50 present it\n",
        "50 in t1"
      ],
      "metadata": {
        "colab": {
          "base_uri": "https://localhost:8080/"
        },
        "id": "7Z9UaplZoM2U",
        "outputId": "a78d4850-98b7-4fb0-c2df-a43fe072b939"
      },
      "execution_count": null,
      "outputs": [
        {
          "output_type": "execute_result",
          "data": {
            "text/plain": [
              "False"
            ]
          },
          "metadata": {},
          "execution_count": 48
        }
      ]
    },
    {
      "cell_type": "code",
      "source": [
        "#3.convert this tuple in set\n",
        "s=set(t)"
      ],
      "metadata": {
        "id": "0aLhSOMTpTD1"
      },
      "execution_count": null,
      "outputs": []
    },
    {
      "cell_type": "code",
      "source": [
        "s"
      ],
      "metadata": {
        "colab": {
          "base_uri": "https://localhost:8080/"
        },
        "id": "lYY8R8DWpkC1",
        "outputId": "34e80964-5096-4d18-9532-a02b536e3edf"
      },
      "execution_count": null,
      "outputs": [
        {
          "output_type": "execute_result",
          "data": {
            "text/plain": [
              "{0.5, 1.5, 2.5, 5.5, 8.5}"
            ]
          },
          "metadata": {},
          "execution_count": 52
        }
      ]
    },
    {
      "cell_type": "code",
      "source": [
        "'''8)Create dictionary of element {'a':'apple','b':'ball','c':'cat','d':'doll','k':'king'}\n",
        "and perform following operations\n",
        "1.access the data at the key'k'\n",
        "2.add a new value 'z':'zebra'\n",
        "3.replace the content 'd' as 'dog'\n",
        "4.print the all values from this dictionary\n",
        "5.find the length of the dictionary\n",
        "'''\n",
        "#dictionary created\n",
        "d={'a':'apple','b':'ball','c':'cat','d':'doll','k':'king'}\n",
        "\n"
      ],
      "metadata": {
        "id": "9O-S_ZOzpk8s"
      },
      "execution_count": null,
      "outputs": []
    },
    {
      "cell_type": "code",
      "source": [
        "d"
      ],
      "metadata": {
        "colab": {
          "base_uri": "https://localhost:8080/"
        },
        "id": "APQ9cMNKrXB-",
        "outputId": "ac5b9d18-eb1b-4178-9540-f50aa436db81"
      },
      "execution_count": null,
      "outputs": [
        {
          "output_type": "execute_result",
          "data": {
            "text/plain": [
              "{'a': 'apple', 'b': 'ball', 'c': 'cat', 'd': 'doll', 'k': 'king'}"
            ]
          },
          "metadata": {},
          "execution_count": 54
        }
      ]
    },
    {
      "cell_type": "code",
      "source": [
        "#1.access the data at the key'k'\n",
        "d['k']"
      ],
      "metadata": {
        "colab": {
          "base_uri": "https://localhost:8080/",
          "height": 36
        },
        "id": "_gEt5JdnrYAh",
        "outputId": "821f6b1a-8a4b-4d3b-8ab9-bfb6f9b93dc4"
      },
      "execution_count": null,
      "outputs": [
        {
          "output_type": "execute_result",
          "data": {
            "text/plain": [
              "'king'"
            ],
            "application/vnd.google.colaboratory.intrinsic+json": {
              "type": "string"
            }
          },
          "metadata": {},
          "execution_count": 56
        }
      ]
    },
    {
      "cell_type": "code",
      "source": [
        "#2.add a new value 'z':'zebra'\n",
        "d['z']='Zebra'"
      ],
      "metadata": {
        "id": "j5puNpAorwW-"
      },
      "execution_count": null,
      "outputs": []
    },
    {
      "cell_type": "code",
      "source": [
        "d"
      ],
      "metadata": {
        "colab": {
          "base_uri": "https://localhost:8080/"
        },
        "id": "w4zkcNpAsBWM",
        "outputId": "1b824d14-2861-4cb6-9ab8-c495bc828084"
      },
      "execution_count": null,
      "outputs": [
        {
          "output_type": "execute_result",
          "data": {
            "text/plain": [
              "{'a': 'apple', 'b': 'ball', 'c': 'cat', 'd': 'doll', 'k': 'king', 'z': 'Zebra'}"
            ]
          },
          "metadata": {},
          "execution_count": 58
        }
      ]
    },
    {
      "cell_type": "code",
      "source": [
        "#3.replace the content 'd' as 'dog'\n",
        "d['d']='dog'"
      ],
      "metadata": {
        "id": "2EBvkfX-sCbX"
      },
      "execution_count": null,
      "outputs": []
    },
    {
      "cell_type": "code",
      "source": [
        "d"
      ],
      "metadata": {
        "colab": {
          "base_uri": "https://localhost:8080/"
        },
        "id": "sCdXF9l8sT9T",
        "outputId": "18536ae7-ed00-4e6b-cdc6-f2ff68ec9caa"
      },
      "execution_count": null,
      "outputs": [
        {
          "output_type": "execute_result",
          "data": {
            "text/plain": [
              "{'a': 'apple', 'b': 'ball', 'c': 'cat', 'd': 'dog', 'k': 'king', 'z': 'Zebra'}"
            ]
          },
          "metadata": {},
          "execution_count": 62
        }
      ]
    },
    {
      "cell_type": "code",
      "source": [
        "#4.print the all values from this dictionary\n",
        "d.values()"
      ],
      "metadata": {
        "colab": {
          "base_uri": "https://localhost:8080/"
        },
        "id": "fQD2saAvsV8N",
        "outputId": "bf1fd436-c297-4293-9ab4-cededb01f5eb"
      },
      "execution_count": null,
      "outputs": [
        {
          "output_type": "execute_result",
          "data": {
            "text/plain": [
              "dict_values(['apple', 'ball', 'cat', 'dog', 'king', 'Zebra'])"
            ]
          },
          "metadata": {},
          "execution_count": 63
        }
      ]
    },
    {
      "cell_type": "code",
      "source": [
        "#5.find the length of the dictionary\n",
        "len(d)"
      ],
      "metadata": {
        "colab": {
          "base_uri": "https://localhost:8080/"
        },
        "id": "EezlmkMnskQe",
        "outputId": "52a587d5-50c6-4b23-d0a3-267e3c558b5d"
      },
      "execution_count": null,
      "outputs": [
        {
          "output_type": "execute_result",
          "data": {
            "text/plain": [
              "6"
            ]
          },
          "metadata": {},
          "execution_count": 65
        }
      ]
    },
    {
      "cell_type": "code",
      "source": [
        "'''9)Write aprogram to find the second largest element in list\n",
        "'''\n",
        "l=[19,34,22,15,89]"
      ],
      "metadata": {
        "id": "QO8xZ_iDspJx"
      },
      "execution_count": null,
      "outputs": []
    },
    {
      "cell_type": "code",
      "source": [
        "l"
      ],
      "metadata": {
        "colab": {
          "base_uri": "https://localhost:8080/"
        },
        "id": "kadN10jdtXPe",
        "outputId": "188ad575-ddad-4f0b-faa4-53ea97b8f351"
      },
      "execution_count": null,
      "outputs": [
        {
          "output_type": "execute_result",
          "data": {
            "text/plain": [
              "[19, 34, 22, 15, 89]"
            ]
          },
          "metadata": {},
          "execution_count": 67
        }
      ]
    },
    {
      "cell_type": "code",
      "source": [
        "t=sorted(l,reverse=True)"
      ],
      "metadata": {
        "id": "X17bC6M9tX-m"
      },
      "execution_count": null,
      "outputs": []
    },
    {
      "cell_type": "code",
      "source": [
        "t"
      ],
      "metadata": {
        "colab": {
          "base_uri": "https://localhost:8080/"
        },
        "id": "vKXjUwpYthLn",
        "outputId": "38079c0e-9b84-45ea-99f2-c9e083e90db7"
      },
      "execution_count": null,
      "outputs": [
        {
          "output_type": "execute_result",
          "data": {
            "text/plain": [
              "[89, 34, 22, 19, 15]"
            ]
          },
          "metadata": {},
          "execution_count": 76
        }
      ]
    },
    {
      "cell_type": "code",
      "source": [
        "t[1]"
      ],
      "metadata": {
        "colab": {
          "base_uri": "https://localhost:8080/"
        },
        "id": "q8q6UhhntjKr",
        "outputId": "0d1233c2-b99c-408c-aaae-a253d36889c8"
      },
      "execution_count": null,
      "outputs": [
        {
          "output_type": "execute_result",
          "data": {
            "text/plain": [
              "34"
            ]
          },
          "metadata": {},
          "execution_count": 77
        }
      ]
    },
    {
      "cell_type": "code",
      "source": [
        "'''10)This is a list of some metallic elements.\n",
        "metals=['silver','gold'...]\n",
        "make a new list that is almost identical to the metal list:the new contains the same items,\n",
        "in the same order,except that it does not contain the item 'copper'\n",
        "'''\n",
        "metals=['silver','gold','mercury','iron','cobolt']"
      ],
      "metadata": {
        "id": "3Bbeo6K7t28G"
      },
      "execution_count": null,
      "outputs": []
    },
    {
      "cell_type": "code",
      "source": [
        "metals"
      ],
      "metadata": {
        "colab": {
          "base_uri": "https://localhost:8080/"
        },
        "id": "iRLea6Y-l488",
        "outputId": "1be1e75e-1254-4fff-ca6e-a42254c3b81c"
      },
      "execution_count": null,
      "outputs": [
        {
          "output_type": "execute_result",
          "data": {
            "text/plain": [
              "['silver', 'gold', 'mercury', 'iron', 'cobolt']"
            ]
          },
          "metadata": {},
          "execution_count": 91
        }
      ]
    },
    {
      "cell_type": "code",
      "source": [
        "\n",
        "\n",
        "# Create a new list without 'copper'\n",
        "new_metals = [metal for metal in metals if metal != 'copper']\n",
        "\n",
        "print(new_metals)"
      ],
      "metadata": {
        "colab": {
          "base_uri": "https://localhost:8080/"
        },
        "id": "U3WLpgv1v7DC",
        "outputId": "18b3d714-9735-4131-e17b-d0319d7df543"
      },
      "execution_count": null,
      "outputs": [
        {
          "output_type": "stream",
          "name": "stdout",
          "text": [
            "['silver', 'gold', 'mercury', 'iron', 'cobolt']\n"
          ]
        }
      ]
    },
    {
      "cell_type": "code",
      "source": [],
      "metadata": {
        "id": "uBqV7Ofgwd-w"
      },
      "execution_count": null,
      "outputs": []
    }
  ]
}