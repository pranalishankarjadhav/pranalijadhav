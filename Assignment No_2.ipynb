{
 "cells": [
  {
   "cell_type": "code",
   "execution_count": 18,
   "id": "a14011d7",
   "metadata": {},
   "outputs": [],
   "source": [
    "'''1)...Create a package named ‘cricket’ which will contain modules named\n",
    "batsman and bowler. Create following functions in respective modules.\n",
    "Import the package and call all these functions in your program\n",
    "batsman: findaverage(runs,matches), strikerate(runs,balls)\n",
    "bowler: findavg(runs,wickets), economyrate(overs, runs)\n",
    "'''\n",
    "\n",
    "from cricket import batsman, baller\n",
    "\n",
    "def main():\n",
    "    # Batsman stats\n",
    "    runs_batsman = int(input(\"Enter the runs:\"))\n",
    "    matches_batsman = int(input(\"Enter the matches:\"))\n",
    "    balls_faced = int(input(\"Enter the Total balls:\"))\n",
    "    \n",
    "    # Bowler stats\n",
    "    runs_baller = int(input(\"Enter the runs baller:\"))\n",
    "    wickets_taken = int(input(\"Enter the wicket:\"))\n",
    "    overs_balled = int(input(\"Enter the overs:\"))\n",
    "\n",
    "    # Batsman calculations\n",
    "    avg_batsman = batsman.findaverage(runs_batsman, matches_batsman)\n",
    "    sr_batsman = batsman.strikerate(runs_batsman, balls_faced)\n",
    "\n",
    "    # Bowler calculations\n",
    "    avg_baller = baller.findavg(runs_baller, wickets_taken)\n",
    "    economy_baller = baller.economyrate(overs_balled, runs_baller)\n",
    "\n",
    "    # Print results\n",
    "    print(f\"Batsman's average:\",avg_batsman)\n",
    "    print(f\"Batsman's strike rate:\",sr_batsman)\n",
    "    print(f\"Bowler's average:\",avg_baller)\n",
    "    print(f\"Bowler's economy rate:\",economy_baller)\n",
    "\n",
    "\n",
    "   "
   ]
  },
  {
   "cell_type": "code",
   "execution_count": 19,
   "id": "07c62458",
   "metadata": {},
   "outputs": [
    {
     "name": "stdout",
     "output_type": "stream",
     "text": [
      "Enter the runs:300\n",
      "Enter the matches:5\n",
      "Enter the Total balls:50\n",
      "Enter the runs baller:3\n",
      "Enter the wicket:5\n",
      "Enter the overs:7\n",
      "Batsman's average: 60.0\n",
      "Batsman's strike rate: 600.0\n",
      "Bowler's average: 0.6\n",
      "Bowler's economy rate: 0.42857142857142855\n"
     ]
    }
   ],
   "source": [
    "main()"
   ]
  },
  {
   "cell_type": "code",
   "execution_count": 29,
   "id": "c1cb2046",
   "metadata": {},
   "outputs": [],
   "source": [
    "'''2)Write a Python function to find whether the number if prime or not.\n",
    "def isPrime(num)'''\n",
    "\n",
    "def Prime(num):\n",
    "    # If num is less than or equal to 1, it's not prime\n",
    "    if num <= 1:\n",
    "        return 'not prime'\n",
    "    \n",
    "    # Check for factors from 2 to sqrt(num)\n",
    "    for i in range(2, int(num**0.5)+1):\n",
    "        if num % i == 0:\n",
    "            return ' not prime'\n",
    "        else:\n",
    "            return 'prime'"
   ]
  },
  {
   "cell_type": "code",
   "execution_count": 30,
   "id": "5df3c743",
   "metadata": {},
   "outputs": [
    {
     "data": {
      "text/plain": [
       "'prime'"
      ]
     },
     "execution_count": 30,
     "metadata": {},
     "output_type": "execute_result"
    }
   ],
   "source": [
    "Prime(7)"
   ]
  },
  {
   "cell_type": "code",
   "execution_count": 12,
   "id": "c422d54c",
   "metadata": {},
   "outputs": [],
   "source": [
    "'''3)Write a function is_palindrome(string) that takes a string as input and returns\n",
    "True if the string reads the same backward as forward (e.g., \"racecar\" is a palindrome).\n",
    "'''\n",
    "\n",
    "def is_palinrome(string):\n",
    "    if(string == string[::-1]):\n",
    "        return ' string is a palindrome'\n",
    "    else:\n",
    "        return ' is not  palindrome'"
   ]
  },
  {
   "cell_type": "code",
   "execution_count": 13,
   "id": "a2a5265c",
   "metadata": {},
   "outputs": [
    {
     "data": {
      "text/plain": [
       "' string is a palindrome'"
      ]
     },
     "execution_count": 13,
     "metadata": {},
     "output_type": "execute_result"
    }
   ],
   "source": [
    "is_palinrome('mam')"
   ]
  },
  {
   "cell_type": "code",
   "execution_count": 2,
   "id": "ef653f31",
   "metadata": {},
   "outputs": [],
   "source": [
    "'''4)Write a function reverse_list(data) that takes a list as input and returns a new list\n",
    "with the elements in reverse order (e.g., reverse_list([1, 2, 3]) returns [3, 2, 1]).\n",
    "'''\n",
    "\n",
    "def reverse_list(data):\n",
    "    return data[::-1]\n",
    "    reverse_list(original_list)\n",
    "    print('original list', original_list)\n",
    "    print(' reverse list', reverse_list)"
   ]
  },
  {
   "cell_type": "code",
   "execution_count": 3,
   "id": "2036ca7a",
   "metadata": {},
   "outputs": [
    {
     "data": {
      "text/plain": [
       "[4, 3, 2, 1]"
      ]
     },
     "execution_count": 3,
     "metadata": {},
     "output_type": "execute_result"
    }
   ],
   "source": [
    "reverse_list([1,2,3,4])"
   ]
  },
  {
   "cell_type": "code",
   "execution_count": null,
   "id": "83dadd43",
   "metadata": {},
   "outputs": [],
   "source": [
    "'''5)Write a function write_file(filename, content) that takes a filename and\n",
    "content as input and writes the content to the specified file.\n",
    "'''\n",
    "\n",
    "def write_file(filename, content):\n",
    "    filename = str(input('Enter the file name'))\n",
    "    content = str(input('Enter the file content'))\n",
    "    with open(filename, 'w') as file:\n",
    "        file.write(content)"
   ]
  },
  {
   "cell_type": "code",
   "execution_count": 6,
   "id": "5f4baf51",
   "metadata": {},
   "outputs": [
    {
     "name": "stdout",
     "output_type": "stream",
     "text": [
      "Enter the file namefile\n",
      "Enter the file contentThis is the file program\n"
     ]
    }
   ],
   "source": [
    "write_file('file.text', 'This is the file program')"
   ]
  },
  {
   "cell_type": "code",
   "execution_count": 20,
   "id": "74ab3b24",
   "metadata": {},
   "outputs": [],
   "source": [
    "'''6)Write a function copy_file(source_filename, destination_filename) that\n",
    "takes the source and destination filenames as input and copies the content of the source\n",
    "file to the destination file. Handle cases where the source file doesn't exist.'''\n",
    "\n",
    "def copy_file(source_filename, destination_filename):\n",
    "    \n",
    "       with open(source_filename, 'r') as source_file:\n",
    "           content = source_file.read()\n",
    "           with open(destination_filename, 'w') as destination_file:\n",
    "               destination_file.write(content)\n",
    "               print('file content copied from source_filename to destination_filename ')\n",
    "   except FileNotFoundError:\n",
    "       print('The  source file does not exist')\n",
    "   except Exception as e:\n",
    "       print('An error occurre',e)"
   ]
  },
  {
   "cell_type": "code",
   "execution_count": 21,
   "id": "0a2aef33",
   "metadata": {},
   "outputs": [
    {
     "name": "stdout",
     "output_type": "stream",
     "text": [
      "file content copied from source_filename to destination_filename \n"
     ]
    }
   ],
   "source": [
    "copy_file('test3.txt','destination.txt' )"
   ]
  },
  {
   "cell_type": "code",
   "execution_count": 7,
   "id": "89e29dcf",
   "metadata": {},
   "outputs": [],
   "source": [
    "'''7)Implemeimport numpy as npnt a function to calculate the dot product of two NumPy arrays'''\n",
    "\n",
    "import numpy as np"
   ]
  },
  {
   "cell_type": "code",
   "execution_count": 8,
   "id": "1defca2d",
   "metadata": {},
   "outputs": [],
   "source": [
    "def calculate_dot_product(array1, array2):\n",
    "    return np.dot(array1, array2)\n",
    "    result = calculate_dot_product(array1, array2)\n",
    "    print('Dot product:', result)"
   ]
  },
  {
   "cell_type": "code",
   "execution_count": 10,
   "id": "9c01862e",
   "metadata": {},
   "outputs": [
    {
     "data": {
      "text/plain": [
       "110"
      ]
     },
     "execution_count": 10,
     "metadata": {},
     "output_type": "execute_result"
    }
   ],
   "source": [
    "calculate_dot_product(([4+6]),([3+8]))"
   ]
  },
  {
   "cell_type": "code",
   "execution_count": 28,
   "id": "4487ae46",
   "metadata": {},
   "outputs": [],
   "source": [
    "'''8)Implement a GUI with a radio button selection for choosing a favorite color (e.g., red,\n",
    "green, blue). Change the background color of the window based on the selected radio\n",
    "button.\n",
    "'''\n",
    "import tkinter as tk\n",
    "def change_color():\n",
    "\n",
    "    \n",
    "    \n",
    "    choose_color = color_var.get()\n",
    "    \n",
    "    if choose_color == \"Red\":\n",
    "        window.configure(bg=\"red\")\n",
    "    elif choose_color == \"Green\":\n",
    "        window.configure(bg=\"green\")\n",
    "    elif choose_color == \"Blue\":\n",
    "        window.configure(bg=\"blue\")\n",
    "\n",
    "window = tk.Tk()\n",
    "window.title(\"Radio button\")\n",
    "\n",
    "color_var = tk.StringVar()\n",
    "\n",
    "\n",
    "red_radio = tk.Radiobutton(window, text=\"Red\",font=('Bold',30), variable=color_var, value=\"Red\", command=change_color)\n",
    "red_radio.place(x=400,y=200)\n",
    "\n",
    "green_radio = tk.Radiobutton(window, text=\"Green\",font=('Bold',30), variable=color_var, value=\"Green\", command=change_color)\n",
    "green_radio.place(x=400,y=300)\n",
    "\n",
    "blue_radio = tk.Radiobutton(window, text=\"Blue\",font=('Bold',30), variable=color_var, value=\"Blue\", command=change_color)\n",
    "blue_radio.place(x=400,y=400)\n",
    "\n",
    "l1=tk.Label(window,text='Radio Buttons',font=('Italic',40)).place(x=350,y=50)\n",
    "                \n",
    "window.mainloop()"
   ]
  },
  {
   "cell_type": "code",
   "execution_count": 27,
   "id": "6075f4f7",
   "metadata": {},
   "outputs": [
    {
     "data": {
      "text/plain": [
       "'9)Design a currency converter GUI. Allow users to enter an amount and select the\\ncurrencies they want to convert between (e.g., USD, EUR). Display the converted\\namount in the selected currency.'"
      ]
     },
     "execution_count": 27,
     "metadata": {},
     "output_type": "execute_result"
    }
   ],
   "source": [
    "'''9)Design a currency converter GUI. Allow users to enter an amount and select the\n",
    "currencies they want to convert between (e.g., USD, EUR). Display the converted\n",
    "amount in the selected currency.'''"
   ]
  },
  {
   "cell_type": "code",
   "execution_count": null,
   "id": "dd59663b",
   "metadata": {},
   "outputs": [],
   "source": [
    "import tkinter as tk\n",
    "from tkinter import ttk\n",
    "\n",
    "# Predefined conversion rates (for demonstration purposes)\n",
    "conversion_rates = {\n",
    "    'Rupees': {'Rupees': 1.0, 'doller': 85.56, 'EUR': 0.75},\n",
    "    'EUR': {'Rupees': 1.18, 'EUR': 1.0, 'dolller': 0.88},\n",
    "    'Doller': {'Ruppes': 1.33, 'EUR': 1.14, 'doller': 1.0},\n",
    "}\n",
    "\n",
    "# Initialize tkinter\n",
    "root = tk.Tk()\n",
    "root.title(\"Currency Converter\")\n",
    "\n",
    "# Function to perform conversion\n",
    "def convert_currency():\n",
    "    try:\n",
    "        amount = float(amount_entry.get())\n",
    "        from_currency = from_currency_var.get()\n",
    "        to_currency = to_currency_var.get()\n",
    "\n",
    "        if from_currency == to_currency:\n",
    "            converted_amount = amount\n",
    "        else:\n",
    "            conversion_rate = conversion_rates[from_currency][to_currency]\n",
    "            converted_amount = amount * conversion_rate\n",
    "\n",
    "        result_label.config(text=f\"Converted Amount: {converted_amount:.2f} {to_currency}\")\n",
    "    except ValueError:\n",
    "        result_label.config(text=\"Please enter a valid number\")\n",
    "\n",
    "# Create labels\n",
    "amount_label = ttk.Label(root, text=\"Enter Amount:\",font=('Arial bold',20))\n",
    "amount_label.place(x=500, y=200) \n",
    "result_label = ttk.Label(root, text=\"\")\n",
    "result_label.place(x=500, y=200)\n",
    "# Create entry for amount\n",
    "amount_entry = ttk.Entry(root, width=20)\n",
    "amount_entry.place(x=700, y=210)\n",
    "\n",
    "# Create dropdowns for selecting currencies\n",
    "currencies = ['Rupees', 'EUR', 'Doller'] \n",
    "from_currency_var = tk.StringVar()\n",
    "to_currency_var = tk.StringVar()\n",
    "\n",
    "from_currency_label = ttk.Label(root, text=\"From Currency:\",font=('Arial bold',20))\n",
    "from_currency_label.place(x=300,y=300)\n",
    "\n",
    "from_currency_dropdown = ttk.Combobox(root, textvariable=from_currency_var, values=currencies)\n",
    "from_currency_dropdown.place(x=530, y=310)\n",
    "from_currency_dropdown.current(0)  \n",
    "to_currency_label = ttk.Label(root, text=\"To Currency:\",font=('Arial bold',20))\n",
    "to_currency_label.place(x=800,y=300)\n",
    "\n",
    "to_currency_dropdown = ttk.Combobox(root, textvariable=to_currency_var, values=currencies)\n",
    "to_currency_dropdown.place(x=990,y=310)\n",
    "to_currency_dropdown.current(1) \n",
    "\n",
    "# Create convert button\n",
    "convert_button = ttk.Button(root, text=\"Convert\",command=convert_currency)\n",
    "convert_button.place(x=700,y=400)\n",
    "\n",
    "# Start the GUI main loop\n",
    "root.mainloop()"
   ]
  },
  {
   "cell_type": "code",
   "execution_count": null,
   "id": "ac77a989",
   "metadata": {},
   "outputs": [],
   "source": []
  },
  {
   "cell_type": "code",
   "execution_count": null,
   "id": "e34ac4e4",
   "metadata": {},
   "outputs": [],
   "source": []
  }
 ],
 "metadata": {
  "kernelspec": {
   "display_name": "Python 3 (ipykernel)",
   "language": "python",
   "name": "python3"
  },
  "language_info": {
   "codemirror_mode": {
    "name": "ipython",
    "version": 3
   },
   "file_extension": ".py",
   "mimetype": "text/x-python",
   "name": "python",
   "nbconvert_exporter": "python",
   "pygments_lexer": "ipython3",
   "version": "3.11.7"
  }
 },
 "nbformat": 4,
 "nbformat_minor": 5
}
