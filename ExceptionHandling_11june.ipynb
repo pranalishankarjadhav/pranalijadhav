{
  "nbformat": 4,
  "nbformat_minor": 0,
  "metadata": {
    "colab": {
      "provenance": [],
      "authorship_tag": "ABX9TyOtj3XjTxiipoebqZmy0Rvz",
      "include_colab_link": true
    },
    "kernelspec": {
      "name": "python3",
      "display_name": "Python 3"
    },
    "language_info": {
      "name": "python"
    }
  },
  "cells": [
    {
      "cell_type": "markdown",
      "metadata": {
        "id": "view-in-github",
        "colab_type": "text"
      },
      "source": [
        "<a href=\"https://colab.research.google.com/github/pranalishankarjadhav/pranalijadhav/blob/main/ExceptionHandling_11june.ipynb\" target=\"_parent\"><img src=\"https://colab.research.google.com/assets/colab-badge.svg\" alt=\"Open In Colab\"/></a>"
      ]
    },
    {
      "cell_type": "code",
      "execution_count": null,
      "metadata": {
        "colab": {
          "base_uri": "https://localhost:8080/"
        },
        "id": "3_3LxAlJ6y0d",
        "outputId": "97dd0177-3754-4bc5-98e0-09fdda1886b3"
      },
      "outputs": [
        {
          "output_type": "stream",
          "name": "stdout",
          "text": [
            "File not exist\n"
          ]
        }
      ],
      "source": [
        "try:\n",
        "  f=open('test5.txt','r')\n",
        "except Exception:\n",
        "  print(\"File not exist\")"
      ]
    },
    {
      "cell_type": "code",
      "source": [
        "try:\n",
        "  f=open('test2.txt','r')\n",
        "  var=var1\n",
        "except FileNotFoundError:\n",
        "  print(\"File not exist\")"
      ],
      "metadata": {
        "colab": {
          "base_uri": "https://localhost:8080/"
        },
        "id": "eOKYp-OB7gWe",
        "outputId": "dc9c60b1-30a8-43e5-f790-dab442c5e304"
      },
      "execution_count": null,
      "outputs": [
        {
          "output_type": "stream",
          "name": "stdout",
          "text": [
            "File not exist\n"
          ]
        }
      ]
    },
    {
      "cell_type": "code",
      "source": [
        "try:\n",
        "  f=open('test2.txt','r')\n",
        "  var=var1\n",
        "except FileNotFoundError:\n",
        "  print(\"File not exist\")\n",
        "except NameError:\n",
        "  print(\"Define it first\")"
      ],
      "metadata": {
        "colab": {
          "base_uri": "https://localhost:8080/"
        },
        "id": "Y2buuiu87-7j",
        "outputId": "50a1d919-6a35-42e1-e942-51c7eb4b6a78"
      },
      "execution_count": null,
      "outputs": [
        {
          "output_type": "stream",
          "name": "stdout",
          "text": [
            "File not exist\n"
          ]
        }
      ]
    },
    {
      "cell_type": "code",
      "source": [
        "try:\n",
        "  f=open('test2.txt','r')\n",
        "  var=var1\n",
        "except FileNotFoundError:\n",
        "  print(\"File not exist\")\n",
        "except Exception as e:\n",
        "  print(e)\n"
      ],
      "metadata": {
        "id": "_vPDdLo--hIj"
      },
      "execution_count": null,
      "outputs": []
    },
    {
      "cell_type": "code",
      "source": [
        "try:\n",
        "  f=open('test2.txt','r')\n",
        "except FileNotFoundError:\n",
        "  print(\"File not exist\")\n",
        "else:\n",
        "  print(f.read())\n",
        "  f.close()\n"
      ],
      "metadata": {
        "id": "7GSOCGJw_C4x"
      },
      "execution_count": null,
      "outputs": []
    },
    {
      "cell_type": "code",
      "source": [
        "try:\n",
        "  f=open('test2.txt','r')\n",
        "except FileNotFoundError:\n",
        "  print(\"File not exist\")\n",
        "else:\n",
        "  print(f.read())\n",
        "  f.close()\n",
        "finally:\n",
        "  print(\"Ok\")"
      ],
      "metadata": {
        "id": "IocWSU8M_bLo"
      },
      "execution_count": null,
      "outputs": []
    },
    {
      "cell_type": "code",
      "source": [
        "try:\n",
        "  f=open('test5.txt','r')\n",
        "except FileNotFoundError:\n",
        "  print(\"File not exist\")\n",
        "else:\n",
        "  print(f.read())\n",
        "  f.close()\n",
        "finally:\n",
        "  print(\"Ok\")"
      ],
      "metadata": {
        "colab": {
          "base_uri": "https://localhost:8080/"
        },
        "id": "binhaYSP_icK",
        "outputId": "4d4c278e-e51f-4d89-fb71-9122b96b8bca"
      },
      "execution_count": null,
      "outputs": [
        {
          "output_type": "stream",
          "name": "stdout",
          "text": [
            "File not exist\n",
            "Ok\n"
          ]
        }
      ]
    },
    {
      "cell_type": "code",
      "source": [],
      "metadata": {
        "id": "ikRtCtig_wdN"
      },
      "execution_count": null,
      "outputs": []
    }
  ]
}