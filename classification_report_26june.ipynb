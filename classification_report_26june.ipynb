{
 "cells": [
  {
   "cell_type": "code",
   "execution_count": 1,
   "id": "25debc5d",
   "metadata": {},
   "outputs": [],
   "source": [
    "import pandas as pd"
   ]
  },
  {
   "cell_type": "code",
   "execution_count": 5,
   "id": "ab2c17df",
   "metadata": {},
   "outputs": [],
   "source": [
    "actual=['c','c','nc','c','nc','nc','c','nc','nc']\n",
    "predicted=['c','nc','nc','c','c','nc','nc','c','nc']"
   ]
  },
  {
   "cell_type": "markdown",
   "id": "ed6ab274",
   "metadata": {},
   "source": [
    "# For cat"
   ]
  },
  {
   "cell_type": "code",
   "execution_count": 6,
   "id": "71544377",
   "metadata": {},
   "outputs": [],
   "source": [
    "tp=2 #pred cat act cat"
   ]
  },
  {
   "cell_type": "code",
   "execution_count": 4,
   "id": "b0e4a3cf",
   "metadata": {},
   "outputs": [],
   "source": [
    "fp=2  #pred cat act not cat"
   ]
  },
  {
   "cell_type": "code",
   "execution_count": 7,
   "id": "880f07da",
   "metadata": {},
   "outputs": [],
   "source": [
    "fn=2 #pred not cat act cat"
   ]
  },
  {
   "cell_type": "code",
   "execution_count": 8,
   "id": "76a2771c",
   "metadata": {},
   "outputs": [],
   "source": [
    "tn=3 #pred not cat act not cat"
   ]
  },
  {
   "cell_type": "code",
   "execution_count": 9,
   "id": "57090a0d",
   "metadata": {},
   "outputs": [
    {
     "data": {
      "text/plain": [
       "0.5"
      ]
     },
     "execution_count": 9,
     "metadata": {},
     "output_type": "execute_result"
    }
   ],
   "source": [
    "#precision\n",
    "\n",
    "precision=2/4\n",
    "precision"
   ]
  },
  {
   "cell_type": "code",
   "execution_count": 10,
   "id": "1896c1f9",
   "metadata": {},
   "outputs": [
    {
     "data": {
      "text/plain": [
       "0.5"
      ]
     },
     "execution_count": 10,
     "metadata": {},
     "output_type": "execute_result"
    }
   ],
   "source": [
    "#recall\n",
    "recall=2/4\n",
    "recall"
   ]
  },
  {
   "cell_type": "code",
   "execution_count": 11,
   "id": "6735b17c",
   "metadata": {},
   "outputs": [
    {
     "data": {
      "text/plain": [
       "0.5"
      ]
     },
     "execution_count": 11,
     "metadata": {},
     "output_type": "execute_result"
    }
   ],
   "source": [
    "#f1-score\n",
    "\n",
    "#harmonic mean between precision and recall\n",
    "\n",
    "(2*precision*recall)/(precision+recall)"
   ]
  },
  {
   "cell_type": "code",
   "execution_count": null,
   "id": "e8159a92",
   "metadata": {},
   "outputs": [],
   "source": []
  }
 ],
 "metadata": {
  "kernelspec": {
   "display_name": "Python 3 (ipykernel)",
   "language": "python",
   "name": "python3"
  },
  "language_info": {
   "codemirror_mode": {
    "name": "ipython",
    "version": 3
   },
   "file_extension": ".py",
   "mimetype": "text/x-python",
   "name": "python",
   "nbconvert_exporter": "python",
   "pygments_lexer": "ipython3",
   "version": "3.11.7"
  }
 },
 "nbformat": 4,
 "nbformat_minor": 5
}
