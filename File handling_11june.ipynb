{
 "cells": [
  {
   "cell_type": "code",
   "execution_count": 11,
   "id": "6e81bed6",
   "metadata": {},
   "outputs": [],
   "source": [
    "f=open('bts.txt','r') \n",
    "\n"
   ]
  },
  {
   "cell_type": "code",
   "execution_count": 12,
   "id": "fd73a339",
   "metadata": {},
   "outputs": [
    {
     "data": {
      "text/plain": [
       "\"'BTS also known as the Bangtan Boys, is a South Korean boy band formed in 2010. The band consists of Jin, Suga, J-Hope, RM, Jimin, V, and Jungkook, who co-write or co-produce much of their material. Originally a hip hop group, they expanded their musical style to incorporate a wide range of genres, while their lyrics have focused on subjects including mental health, the troubles of school-age youth and coming of age, loss, the journey towards self-love, individualism, and the consequences of fame and recognition. Their discography and adjacent work has also referenced literature, philosophy and psychology, and includes an alternate universe storyline.'\""
      ]
     },
     "execution_count": 12,
     "metadata": {},
     "output_type": "execute_result"
    }
   ],
   "source": [
    "f.read()"
   ]
  },
  {
   "cell_type": "code",
   "execution_count": 5,
   "id": "3ae6f9e2",
   "metadata": {},
   "outputs": [
    {
     "name": "stdout",
     "output_type": "stream",
     "text": [
      "bts.txt\n"
     ]
    }
   ],
   "source": [
    "print(f.name)"
   ]
  },
  {
   "cell_type": "code",
   "execution_count": 13,
   "id": "d9d5d230",
   "metadata": {},
   "outputs": [
    {
     "name": "stdout",
     "output_type": "stream",
     "text": [
      "r\n"
     ]
    }
   ],
   "source": [
    "print(f.mode)"
   ]
  },
  {
   "cell_type": "code",
   "execution_count": 14,
   "id": "ad3e7393",
   "metadata": {},
   "outputs": [
    {
     "name": "stdout",
     "output_type": "stream",
     "text": [
      "False\n"
     ]
    }
   ],
   "source": [
    "print(f.closed)"
   ]
  },
  {
   "cell_type": "code",
   "execution_count": 15,
   "id": "f47f4056",
   "metadata": {},
   "outputs": [],
   "source": [
    "f.close()"
   ]
  },
  {
   "cell_type": "code",
   "execution_count": 16,
   "id": "01ae2e74",
   "metadata": {},
   "outputs": [
    {
     "name": "stdout",
     "output_type": "stream",
     "text": [
      "True\n"
     ]
    }
   ],
   "source": [
    "print(f.closed)"
   ]
  },
  {
   "cell_type": "code",
   "execution_count": 17,
   "id": "39734a7b",
   "metadata": {},
   "outputs": [
    {
     "ename": "ValueError",
     "evalue": "I/O operation on closed file.",
     "output_type": "error",
     "traceback": [
      "\u001b[1;31m---------------------------------------------------------------------------\u001b[0m",
      "\u001b[1;31mValueError\u001b[0m                                Traceback (most recent call last)",
      "Cell \u001b[1;32mIn[17], line 1\u001b[0m\n\u001b[1;32m----> 1\u001b[0m \u001b[43mf\u001b[49m\u001b[38;5;241;43m.\u001b[39;49m\u001b[43mread\u001b[49m\u001b[43m(\u001b[49m\u001b[43m)\u001b[49m\n",
      "\u001b[1;31mValueError\u001b[0m: I/O operation on closed file."
     ]
    }
   ],
   "source": [
    "f.read()#closed file so data can't read"
   ]
  },
  {
   "cell_type": "code",
   "execution_count": 18,
   "id": "4936455d",
   "metadata": {},
   "outputs": [
    {
     "data": {
      "text/plain": [
       "<_io.TextIOWrapper name='bts.txt' mode='r' encoding='cp1252'>"
      ]
     },
     "execution_count": 18,
     "metadata": {},
     "output_type": "execute_result"
    }
   ],
   "source": [
    "f#data  not accessible"
   ]
  },
  {
   "cell_type": "code",
   "execution_count": 19,
   "id": "2ed8ae3c",
   "metadata": {},
   "outputs": [],
   "source": [
    "#context managerusing file automatically closed\n",
    "with open('bts.txt','r') as f:\n",
    "    pass"
   ]
  },
  {
   "cell_type": "code",
   "execution_count": 20,
   "id": "81e9d1dd",
   "metadata": {},
   "outputs": [
    {
     "name": "stdout",
     "output_type": "stream",
     "text": [
      "True\n"
     ]
    }
   ],
   "source": [
    "print(f.closed)"
   ]
  },
  {
   "cell_type": "code",
   "execution_count": 21,
   "id": "63c78399",
   "metadata": {},
   "outputs": [
    {
     "name": "stdout",
     "output_type": "stream",
     "text": [
      "'BTS also known as the Bangtan Boys, is a South Korean boy band formed in 2010. The band consists of Jin, Suga, J-Hope, RM, Jimin, V, and Jungkook, who co-write or co-produce much of their material. Originally a hip hop group, they expanded their musical style to incorporate a wide range of genres, while their lyrics have focused on subjects including mental health, the troubles of school-age youth and coming of age, loss, the journey towards self-love, individualism, and the consequences of fame and recognition. Their discography and adjacent work has also referenced literature, philosophy and psychology, and includes an alternate universe storyline.'\n"
     ]
    }
   ],
   "source": [
    "with open ('bts.txt','r') as f:\n",
    "   content=f.read()\n",
    "   print(content)"
   ]
  },
  {
   "cell_type": "code",
   "execution_count": 23,
   "id": "aa91c84f",
   "metadata": {},
   "outputs": [
    {
     "name": "stdout",
     "output_type": "stream",
     "text": [
      "[\"'This is the first line.\\n\", 'This is second line.\\n', 'This is third line.\\n', \"This is fourt line.'\"]\n"
     ]
    }
   ],
   "source": [
    "with open ('test1.txt','r') as f: #it read line by line\n",
    "   content=f.readlines()\n",
    "   print(content)"
   ]
  },
  {
   "cell_type": "code",
   "execution_count": 27,
   "id": "d444fde4",
   "metadata": {},
   "outputs": [
    {
     "name": "stdout",
     "output_type": "stream",
     "text": [
      "'This is the first line.\n",
      " "
     ]
    }
   ],
   "source": [
    "with open ('test1.txt','r') as f:\n",
    "   content=f.readline()\n",
    "   print(content,end=\" \")\n"
   ]
  },
  {
   "cell_type": "code",
   "execution_count": 28,
   "id": "1c96df13",
   "metadata": {},
   "outputs": [
    {
     "name": "stdout",
     "output_type": "stream",
     "text": [
      "'This is the first line.\n",
      "\n",
      "This is second line.\n",
      "\n"
     ]
    }
   ],
   "source": [
    "with open ('test1.txt','r') as f:\n",
    "   content=f.readline()\n",
    "   print(content)\n",
    "\n",
    "   content=f.readline()\n",
    "   print(content)"
   ]
  },
  {
   "cell_type": "code",
   "execution_count": 29,
   "id": "05dbd442",
   "metadata": {},
   "outputs": [
    {
     "name": "stdout",
     "output_type": "stream",
     "text": [
      "'This is the first line.\n",
      " This is second line.\n",
      " "
     ]
    }
   ],
   "source": [
    "with open ('test1.txt','r') as f:\n",
    "   content=f.readline()\n",
    "   print(content,end=\" \")\n",
    "\n",
    "   content=f.readline()##space is deleted\n",
    "   print(content,end=\" \")"
   ]
  },
  {
   "cell_type": "code",
   "execution_count": 30,
   "id": "43f722b7",
   "metadata": {},
   "outputs": [
    {
     "name": "stdout",
     "output_type": "stream",
     "text": [
      "'This is the first line.\n",
      " This is second line.\n",
      " This is third line.\n",
      " This is fourt line.' "
     ]
    }
   ],
   "source": [
    "#use loop\n",
    "with open ('test1.txt','r') as f:\n",
    "  for line in f:\n",
    "   print(line,end=\" \")"
   ]
  },
  {
   "cell_type": "code",
   "execution_count": 35,
   "id": "a7e22dfd",
   "metadata": {},
   "outputs": [
    {
     "name": "stdout",
     "output_type": "stream",
     "text": [
      "'This\n"
     ]
    }
   ],
   "source": [
    "with open ('test1.txt','r') as f:\n",
    " content = f.read(5)\n",
    " print(content)"
   ]
  },
  {
   "cell_type": "code",
   "execution_count": 37,
   "id": "e40af061",
   "metadata": {},
   "outputs": [
    {
     "name": "stdout",
     "output_type": "stream",
     "text": [
      "'This\n",
      " is t\n",
      "he fi\n",
      "rst l\n",
      "ine.\n",
      "\n",
      "This \n",
      "is se\n",
      "cond \n",
      "line.\n",
      "\n",
      "This\n",
      " is t\n",
      "hird \n",
      "line.\n",
      "\n",
      "This\n",
      " is f\n",
      "ourt \n",
      "line.\n",
      "'\n"
     ]
    }
   ],
   "source": [
    "#use while loop\n",
    "with open ('test1.txt','r')as f:\n",
    "  size=5\n",
    "  content=f.read(size)\n",
    "\n",
    "  while len(content)>0:\n",
    "    print(content)\n",
    "    content=f.read(size)\n"
   ]
  },
  {
   "cell_type": "code",
   "execution_count": 42,
   "id": "c81aca9a",
   "metadata": {},
   "outputs": [
    {
     "name": "stdout",
     "output_type": "stream",
     "text": [
      "'This\n",
      "'This\n"
     ]
    }
   ],
   "source": [
    "with open ('test1.txt','r')as f:\n",
    "  content=f.read(5)\n",
    "  print(content)\n",
    "  f.seek(0)\n",
    "\n",
    "  content=f.read(5)\n",
    "  print(content)"
   ]
  },
  {
   "cell_type": "markdown",
   "id": "734ab92b",
   "metadata": {},
   "source": [
    "###Write"
   ]
  },
  {
   "cell_type": "code",
   "execution_count": 43,
   "id": "daa67a4a",
   "metadata": {},
   "outputs": [],
   "source": [
    "with open ('test2.txt','w') as w:\n",
    "  pass#file is created"
   ]
  },
  {
   "cell_type": "code",
   "execution_count": 44,
   "id": "9bfed7a8",
   "metadata": {},
   "outputs": [],
   "source": [
    "with open ('test2.txt','w') as w:\n",
    " w.write('This is first number')#write something"
   ]
  },
  {
   "cell_type": "code",
   "execution_count": 46,
   "id": "0fb56ce9",
   "metadata": {},
   "outputs": [],
   "source": [
    "with open ('test2.txt','w') as w:\n",
    " w.write('slide')"
   ]
  },
  {
   "cell_type": "code",
   "execution_count": 48,
   "id": "9d6f88e5",
   "metadata": {},
   "outputs": [],
   "source": [
    "with open ('test2.txt','w') as w:\n",
    " w.write('slide')\n",
    " \n",
    " w.write('g')"
   ]
  },
  {
   "cell_type": "code",
   "execution_count": 49,
   "id": "6cd3426b",
   "metadata": {},
   "outputs": [],
   "source": [
    "with open ('test2.txt','w') as w:\n",
    " w.write('slide')\n",
    " w.seek(0)\n",
    " w.write('g')"
   ]
  },
  {
   "cell_type": "code",
   "execution_count": 50,
   "id": "9cb5395d",
   "metadata": {},
   "outputs": [],
   "source": [
    "with open ('test2.txt','r') as rf:\n",
    "   with open ('test3.txt','w') as w:\n",
    "     for line in rf:\n",
    "      w.write(line)"
   ]
  },
  {
   "cell_type": "code",
   "execution_count": 52,
   "id": "fe340cd1",
   "metadata": {},
   "outputs": [],
   "source": [
    "with open ('wallpaper.jpg','rb') as rf:\n",
    "   with open ('wallpaper_copy.jpg','wb') as w:\n",
    "     for line in rf:\n",
    "      w.write(line)\n"
   ]
  },
  {
   "cell_type": "code",
   "execution_count": null,
   "id": "0666acf2",
   "metadata": {},
   "outputs": [],
   "source": []
  }
 ],
 "metadata": {
  "kernelspec": {
   "display_name": "Python 3 (ipykernel)",
   "language": "python",
   "name": "python3"
  },
  "language_info": {
   "codemirror_mode": {
    "name": "ipython",
    "version": 3
   },
   "file_extension": ".py",
   "mimetype": "text/x-python",
   "name": "python",
   "nbconvert_exporter": "python",
   "pygments_lexer": "ipython3",
   "version": "3.10.14"
  }
 },
 "nbformat": 4,
 "nbformat_minor": 5
}
