{
  "nbformat": 4,
  "nbformat_minor": 0,
  "metadata": {
    "colab": {
      "provenance": [],
      "authorship_tag": "ABX9TyMyfCYCJz8uPgjF9jDM/Njl",
      "include_colab_link": true
    },
    "kernelspec": {
      "name": "python3",
      "display_name": "Python 3"
    },
    "language_info": {
      "name": "python"
    }
  },
  "cells": [
    {
      "cell_type": "markdown",
      "metadata": {
        "id": "view-in-github",
        "colab_type": "text"
      },
      "source": [
        "<a href=\"https://colab.research.google.com/github/pranalishankarjadhav/pranalijadhav/blob/main/looping_(Day3).ipynb\" target=\"_parent\"><img src=\"https://colab.research.google.com/assets/colab-badge.svg\" alt=\"Open In Colab\"/></a>"
      ]
    },
    {
      "cell_type": "code",
      "execution_count": null,
      "metadata": {
        "colab": {
          "base_uri": "https://localhost:8080/"
        },
        "id": "VZv8MB72h2wY",
        "outputId": "cabd3780-839f-436d-81b3-428089460645"
      },
      "outputs": [
        {
          "output_type": "stream",
          "name": "stdout",
          "text": [
            "Pranali Pranali Pranali Pranali Pranali Pranali Pranali Pranali Pranali Pranali Pranali Pranali Pranali Pranali Pranali "
          ]
        }
      ],
      "source": [
        "# printing a name 15 times\n",
        "count=1\n",
        "while count<=15:\n",
        "  print(\"Pranali\" ,end=\" \")\n",
        "  count=count+1"
      ]
    },
    {
      "cell_type": "code",
      "source": [
        "print(count)"
      ],
      "metadata": {
        "colab": {
          "base_uri": "https://localhost:8080/"
        },
        "id": "x6CUgy7fkjI_",
        "outputId": "d1598e73-edc6-4f7d-d6c6-d9c3cc5521ad"
      },
      "execution_count": null,
      "outputs": [
        {
          "output_type": "stream",
          "name": "stdout",
          "text": [
            "16\n"
          ]
        }
      ]
    },
    {
      "cell_type": "code",
      "source": [
        "# print number from 1 to 5\n",
        "num=1\n",
        "while num<=5:\n",
        "  print(num)\n",
        "  num=num+1"
      ],
      "metadata": {
        "colab": {
          "base_uri": "https://localhost:8080/"
        },
        "id": "runVq_Qck6dL",
        "outputId": "9e5ed114-71ca-4fb6-c03f-a9a0025d58f7"
      },
      "execution_count": null,
      "outputs": [
        {
          "output_type": "stream",
          "name": "stdout",
          "text": [
            "1\n",
            "2\n",
            "3\n",
            "4\n",
            "5\n"
          ]
        }
      ]
    },
    {
      "cell_type": "code",
      "source": [
        "# find the addition of all numbers from 1 to 10\n",
        "num=1\n",
        "add=0\n",
        "while num<=10:\n",
        "   add=add+num\n",
        "   num=num+1\n",
        "print(\"Addition is=\",add)"
      ],
      "metadata": {
        "colab": {
          "base_uri": "https://localhost:8080/"
        },
        "id": "69_n1TKPmY-R",
        "outputId": "f5b6c5e8-d1a9-4d62-ea68-bc650a71af3c"
      },
      "execution_count": null,
      "outputs": [
        {
          "output_type": "stream",
          "name": "stdout",
          "text": [
            "Addition is= 55\n"
          ]
        }
      ]
    },
    {
      "cell_type": "code",
      "source": [
        "#find additin of all thhe odd numbers from 1 to 20\n",
        "count=1\n",
        "add=0\n",
        "while count<=20:\n",
        "  add=add+count\n",
        "  count=count+1\n",
        "print(\"addition is:\",add)"
      ],
      "metadata": {
        "colab": {
          "base_uri": "https://localhost:8080/"
        },
        "id": "ngB9mlUxn04Y",
        "outputId": "9e6c2766-3d31-47ab-9b75-c4eba9f66c89"
      },
      "execution_count": null,
      "outputs": [
        {
          "output_type": "stream",
          "name": "stdout",
          "text": [
            "addition is: 210\n"
          ]
        }
      ]
    },
    {
      "cell_type": "code",
      "source": [
        "# factorial>5!=5*4*3*2*1=120\n",
        "num=1\n",
        "fact=1\n",
        "while num<=5:\n",
        "   fact=fact*num\n",
        "   num=num+1\n",
        "print(\"Factorial is=\",fact)\n",
        "\n"
      ],
      "metadata": {
        "colab": {
          "base_uri": "https://localhost:8080/"
        },
        "id": "9tTbh7yrp1yQ",
        "outputId": "9d9bc354-1d5b-4be9-ff81-c953e9fe33ac"
      },
      "execution_count": null,
      "outputs": [
        {
          "output_type": "stream",
          "name": "stdout",
          "text": [
            "Factorial is= 120\n"
          ]
        }
      ]
    },
    {
      "cell_type": "code",
      "source": [
        "# find the factorial of given number\n",
        "num=int(input(\"Enter the number:\"))\n",
        "fact=1\n",
        "while num>=1:\n",
        "   fact=fact*num\n",
        "   num=num-1\n",
        "print(\"Factorial is=\",fact)\n",
        "\n"
      ],
      "metadata": {
        "colab": {
          "base_uri": "https://localhost:8080/"
        },
        "id": "2FzPAdpirDvF",
        "outputId": "f1bd7b71-7229-4ed3-f2ec-e5a211d09e54"
      },
      "execution_count": null,
      "outputs": [
        {
          "output_type": "stream",
          "name": "stdout",
          "text": [
            "Enter the number:5\n",
            "Factorial is= 120\n"
          ]
        }
      ]
    },
    {
      "cell_type": "code",
      "source": [
        "10"
      ],
      "metadata": {
        "id": "ANCKvwuztcAc",
        "colab": {
          "base_uri": "https://localhost:8080/"
        },
        "outputId": "bb3ae6b0-7508-4339-da1d-fc834f98b65c"
      },
      "execution_count": null,
      "outputs": [
        {
          "output_type": "execute_result",
          "data": {
            "text/plain": [
              "10"
            ]
          },
          "metadata": {},
          "execution_count": 31
        }
      ]
    },
    {
      "cell_type": "code",
      "source": [
        "'''infinite loop\n",
        "count=1\n",
        "while count<=15:\n",
        "  print(\"Pranali\" ,end=\" \")\n",
        "  '''\n"
      ],
      "metadata": {
        "colab": {
          "base_uri": "https://localhost:8080/",
          "height": 35
        },
        "id": "6qWhGRImu74h",
        "outputId": "ed2dcc17-ebfd-4a08-ae9e-533b12084fb8"
      },
      "execution_count": null,
      "outputs": [
        {
          "output_type": "execute_result",
          "data": {
            "text/plain": [
              "'infinite loop\\ncount=1\\nwhile count<=15:\\n  print(\"Pranali\" ,end=\" \")\\n  '"
            ],
            "application/vnd.google.colaboratory.intrinsic+json": {
              "type": "string"
            }
          },
          "metadata": {},
          "execution_count": 32
        }
      ]
    },
    {
      "cell_type": "code",
      "source": [
        "'''while True:\n",
        "print(\"a\")\n",
        "'''"
      ],
      "metadata": {
        "colab": {
          "base_uri": "https://localhost:8080/",
          "height": 35
        },
        "id": "gI-Yrs7AwRaX",
        "outputId": "0806f9be-7f3c-4377-aff0-389735bc3431"
      },
      "execution_count": null,
      "outputs": [
        {
          "output_type": "execute_result",
          "data": {
            "text/plain": [
              "'while True:\\nprint(\"a\")\\n'"
            ],
            "application/vnd.google.colaboratory.intrinsic+json": {
              "type": "string"
            }
          },
          "metadata": {},
          "execution_count": 33
        }
      ]
    },
    {
      "cell_type": "code",
      "source": [
        "#else\n",
        "count=1\n",
        "add=0\n",
        "while count<=20:\n",
        "  add=add+count\n",
        "  count=count+2\n",
        "else:\n",
        "    print(\"Addition is \",add)"
      ],
      "metadata": {
        "colab": {
          "base_uri": "https://localhost:8080/"
        },
        "id": "gn110D0wwdNi",
        "outputId": "0d5da3cc-2161-4618-96c7-17a76b26a31b"
      },
      "execution_count": null,
      "outputs": [
        {
          "output_type": "stream",
          "name": "stdout",
          "text": [
            "Addition is  100\n"
          ]
        }
      ]
    },
    {
      "cell_type": "code",
      "source": [
        "# find addition of all the digits of anumber\n",
        "#ex..12345+>1+2+3+4+5=15\n",
        "num=12345\n",
        "print(num%10)\n",
        "print(num//10)\n"
      ],
      "metadata": {
        "colab": {
          "base_uri": "https://localhost:8080/"
        },
        "id": "7flE9j_51FQu",
        "outputId": "68825f0f-8c4b-4adc-82e6-9149f88bba4b"
      },
      "execution_count": null,
      "outputs": [
        {
          "output_type": "stream",
          "name": "stdout",
          "text": [
            "5\n",
            "1234\n"
          ]
        }
      ]
    },
    {
      "cell_type": "code",
      "source": [
        "# find addition of all the digits of anumber\n",
        "#ex..12345+>1+2+3+4+5=15\n",
        "num=int(input(\"Enter the Number\"))\n",
        "add=0\n",
        "while num>0:\n",
        "    rem=num%10\n",
        "    add=add+rem\n",
        "    num=num//10\n",
        "print(\"Addition of digit is:\",add)\n",
        "\n"
      ],
      "metadata": {
        "colab": {
          "base_uri": "https://localhost:8080/"
        },
        "id": "2gA-G182xHho",
        "outputId": "42966778-e2a9-4182-d53d-0a7727994b05"
      },
      "execution_count": null,
      "outputs": [
        {
          "output_type": "stream",
          "name": "stdout",
          "text": [
            "Enter the Number12345\n",
            "Addition of digit is: 15\n"
          ]
        }
      ]
    },
    {
      "cell_type": "code",
      "source": [
        "#for Loop\n",
        "\n",
        "for n in 32,34,56,55,66:\n",
        "  print(n)"
      ],
      "metadata": {
        "colab": {
          "base_uri": "https://localhost:8080/"
        },
        "id": "Y75RpgFGzpXb",
        "outputId": "869e69e4-31f1-4025-baa3-b770841c2ea6"
      },
      "execution_count": null,
      "outputs": [
        {
          "output_type": "stream",
          "name": "stdout",
          "text": [
            "32\n",
            "34\n",
            "56\n",
            "55\n",
            "66\n"
          ]
        }
      ]
    },
    {
      "cell_type": "code",
      "source": [
        "for n in 32,34,56,55,66:\n",
        "  print(n/2)"
      ],
      "metadata": {
        "colab": {
          "base_uri": "https://localhost:8080/"
        },
        "id": "OVE9Us0T6gg4",
        "outputId": "cd6f029f-ca89-4dd1-be0d-9d1b923cb13b"
      },
      "execution_count": null,
      "outputs": [
        {
          "output_type": "stream",
          "name": "stdout",
          "text": [
            "16.0\n",
            "17.0\n",
            "28.0\n",
            "27.5\n",
            "33.0\n"
          ]
        }
      ]
    },
    {
      "cell_type": "code",
      "source": [
        "#Range Function\n",
        "list(range(10))"
      ],
      "metadata": {
        "colab": {
          "base_uri": "https://localhost:8080/"
        },
        "id": "7HgB4IYc68w1",
        "outputId": "6b1f3991-d753-4152-e948-e8bb7db6cd88"
      },
      "execution_count": null,
      "outputs": [
        {
          "output_type": "execute_result",
          "data": {
            "text/plain": [
              "[0, 1, 2, 3, 4, 5, 6, 7, 8, 9]"
            ]
          },
          "metadata": {},
          "execution_count": 46
        }
      ]
    },
    {
      "cell_type": "code",
      "source": [
        "list(range(5,15))"
      ],
      "metadata": {
        "colab": {
          "base_uri": "https://localhost:8080/"
        },
        "id": "FDXCwxZO73Si",
        "outputId": "15b6b443-dfd6-465a-ef34-2ce1cd9283d5"
      },
      "execution_count": null,
      "outputs": [
        {
          "output_type": "execute_result",
          "data": {
            "text/plain": [
              "[5, 6, 7, 8, 9, 10, 11, 12, 13, 14]"
            ]
          },
          "metadata": {},
          "execution_count": 47
        }
      ]
    },
    {
      "cell_type": "code",
      "source": [
        "list(range(5,15,2))"
      ],
      "metadata": {
        "colab": {
          "base_uri": "https://localhost:8080/"
        },
        "id": "rDQvSXcj775I",
        "outputId": "c105c9c5-2e00-4958-ab68-f1ff20540a3f"
      },
      "execution_count": null,
      "outputs": [
        {
          "output_type": "execute_result",
          "data": {
            "text/plain": [
              "[5, 7, 9, 11, 13]"
            ]
          },
          "metadata": {},
          "execution_count": 49
        }
      ]
    },
    {
      "cell_type": "code",
      "source": [
        "#range(start,end+1,step)\n"
      ],
      "metadata": {
        "id": "HAy9mrIS8DFB"
      },
      "execution_count": null,
      "outputs": []
    },
    {
      "cell_type": "code",
      "source": [
        "list(range(23,1,-1))"
      ],
      "metadata": {
        "colab": {
          "base_uri": "https://localhost:8080/"
        },
        "id": "C3vYny9y8RMN",
        "outputId": "97b23531-c7fa-42a3-876e-ad0ac17683b0"
      },
      "execution_count": null,
      "outputs": [
        {
          "output_type": "execute_result",
          "data": {
            "text/plain": [
              "[23,\n",
              " 22,\n",
              " 21,\n",
              " 20,\n",
              " 19,\n",
              " 18,\n",
              " 17,\n",
              " 16,\n",
              " 15,\n",
              " 14,\n",
              " 13,\n",
              " 12,\n",
              " 11,\n",
              " 10,\n",
              " 9,\n",
              " 8,\n",
              " 7,\n",
              " 6,\n",
              " 5,\n",
              " 4,\n",
              " 3,\n",
              " 2]"
            ]
          },
          "metadata": {},
          "execution_count": 55
        }
      ]
    },
    {
      "cell_type": "code",
      "source": [
        "for n in range((5)):\n",
        "    print(n)"
      ],
      "metadata": {
        "colab": {
          "base_uri": "https://localhost:8080/"
        },
        "id": "SlEFmBXQ8bTe",
        "outputId": "6ade8fbb-6fec-417f-bb5f-6126efe8a5cb"
      },
      "execution_count": null,
      "outputs": [
        {
          "output_type": "stream",
          "name": "stdout",
          "text": [
            "0\n",
            "1\n",
            "2\n",
            "3\n",
            "4\n"
          ]
        }
      ]
    },
    {
      "cell_type": "code",
      "source": [
        "for n in range(1,6):\n",
        "    print(n**2)"
      ],
      "metadata": {
        "colab": {
          "base_uri": "https://localhost:8080/"
        },
        "id": "MDKoex309Grz",
        "outputId": "ce032da5-49f0-4822-84c7-f82a31031fc3"
      },
      "execution_count": null,
      "outputs": [
        {
          "output_type": "stream",
          "name": "stdout",
          "text": [
            "1\n",
            "4\n",
            "9\n",
            "16\n",
            "25\n"
          ]
        }
      ]
    },
    {
      "cell_type": "code",
      "source": [
        "for n in range(10):\n",
        "    print(\"Pranali\",end=\" \")"
      ],
      "metadata": {
        "colab": {
          "base_uri": "https://localhost:8080/"
        },
        "id": "Jx5WCvBI9U3q",
        "outputId": "b9096e0b-1029-4c6a-c0c7-7355ac34506f"
      },
      "execution_count": null,
      "outputs": [
        {
          "output_type": "stream",
          "name": "stdout",
          "text": [
            "Pranali Pranali Pranali Pranali Pranali Pranali Pranali Pranali Pranali Pranali "
          ]
        }
      ]
    },
    {
      "cell_type": "code",
      "source": [
        "#find the addtion of 1 to 10 numbers\n",
        "add=0\n",
        "for n in range(1,11):\n",
        "  add=add+n\n",
        "print(\"Addition:\",add)"
      ],
      "metadata": {
        "colab": {
          "base_uri": "https://localhost:8080/"
        },
        "id": "g7q4KDe-9ss-",
        "outputId": "7d5a0cdb-68d6-41ba-89e2-ea14f3293021"
      },
      "execution_count": null,
      "outputs": [
        {
          "output_type": "stream",
          "name": "stdout",
          "text": [
            "Addition: 55\n"
          ]
        }
      ]
    },
    {
      "cell_type": "code",
      "source": [
        "#find the addition of odd numbers from 1 to 20\n",
        "add=0\n",
        "for n in range(1,21,2):\n",
        "\n",
        "   add=add+n\n",
        "print(add)"
      ],
      "metadata": {
        "colab": {
          "base_uri": "https://localhost:8080/"
        },
        "id": "3rTbncHZ-i3j",
        "outputId": "f01a2bfe-33aa-4b5e-811a-8e830ff2c443"
      },
      "execution_count": null,
      "outputs": [
        {
          "output_type": "stream",
          "name": "stdout",
          "text": [
            "100\n"
          ]
        }
      ]
    },
    {
      "cell_type": "code",
      "source": [
        "for n in \"Sneha\":\n",
        "  print(n)"
      ],
      "metadata": {
        "colab": {
          "base_uri": "https://localhost:8080/"
        },
        "id": "5YXBZ7p4_Wra",
        "outputId": "6ef090df-64e1-4b88-e29c-9e41238302f6"
      },
      "execution_count": null,
      "outputs": [
        {
          "output_type": "stream",
          "name": "stdout",
          "text": [
            "S\n",
            "n\n",
            "e\n",
            "h\n",
            "a\n"
          ]
        }
      ]
    },
    {
      "cell_type": "code",
      "source": [
        "for n in \"Sneha\",\"Pranali\",\"Dnyaneshwari\",\"Amruta\":\n",
        "  print(n)"
      ],
      "metadata": {
        "colab": {
          "base_uri": "https://localhost:8080/"
        },
        "id": "7jv3caVP_0SC",
        "outputId": "50f0da59-30bc-4818-cbfb-2351c8210947"
      },
      "execution_count": null,
      "outputs": [
        {
          "output_type": "stream",
          "name": "stdout",
          "text": [
            "Sneha\n",
            "Pranali\n",
            "Dnyaneshwari\n",
            "Amruta\n"
          ]
        }
      ]
    },
    {
      "cell_type": "code",
      "source": [
        "num=int(input(\"Enter the number\"))\n",
        "fact=1\n",
        "for n in range(1,num+1):\n",
        "  fact=fact*n\n",
        "print(fact)"
      ],
      "metadata": {
        "colab": {
          "base_uri": "https://localhost:8080/"
        },
        "id": "XrTHKzS4ABqJ",
        "outputId": "1c663142-9475-420a-df24-5a92bfa47976"
      },
      "execution_count": null,
      "outputs": [
        {
          "output_type": "stream",
          "name": "stdout",
          "text": [
            "Enter the number5\n",
            "120\n"
          ]
        }
      ]
    },
    {
      "cell_type": "code",
      "source": [
        "#Break statment\n",
        "for n in range(1,11):\n",
        "  if n==5:\n",
        "    break\n",
        "  print(n)"
      ],
      "metadata": {
        "colab": {
          "base_uri": "https://localhost:8080/"
        },
        "id": "A216s6oeAZwr",
        "outputId": "d1ae6b96-7865-4d3d-d51c-80a4c46db4fc"
      },
      "execution_count": null,
      "outputs": [
        {
          "output_type": "stream",
          "name": "stdout",
          "text": [
            "1\n",
            "2\n",
            "3\n",
            "4\n"
          ]
        }
      ]
    },
    {
      "cell_type": "code",
      "source": [
        "count=0\n",
        "while count<=10:\n",
        "  print(count)\n",
        "  if count==5:\n",
        "     break\n",
        "  count+=1"
      ],
      "metadata": {
        "colab": {
          "base_uri": "https://localhost:8080/"
        },
        "id": "2Z6LXgRRDBF0",
        "outputId": "40079a9f-7f36-43b5-f5a7-5c6d7b3c69ed"
      },
      "execution_count": null,
      "outputs": [
        {
          "output_type": "stream",
          "name": "stdout",
          "text": [
            "0\n",
            "1\n",
            "2\n",
            "3\n",
            "4\n",
            "5\n"
          ]
        }
      ]
    },
    {
      "cell_type": "code",
      "source": [
        "#Countinue statment\n",
        "for n in range(1,11):\n",
        "  if n==5:\n",
        "    continue\n",
        "  print(n)"
      ],
      "metadata": {
        "colab": {
          "base_uri": "https://localhost:8080/"
        },
        "id": "On6eN8qVEIKy",
        "outputId": "b3c9c7e6-7d87-4988-f5a9-c4a623aa32cd"
      },
      "execution_count": null,
      "outputs": [
        {
          "output_type": "stream",
          "name": "stdout",
          "text": [
            "1\n",
            "2\n",
            "3\n",
            "4\n",
            "6\n",
            "7\n",
            "8\n",
            "9\n",
            "10\n"
          ]
        }
      ]
    },
    {
      "cell_type": "code",
      "source": [
        "r=int(input(\"Enter the row\"))\n",
        "\n",
        "for i in range(1,r+1):\n",
        "    for j in range(i):\n",
        "        print(\"* \",end=\" \")\n",
        "    print()"
      ],
      "metadata": {
        "colab": {
          "base_uri": "https://localhost:8080/"
        },
        "id": "OkXw0ar1ETw8",
        "outputId": "2e9c51c1-ec90-4352-dc0f-6a6520e75dde"
      },
      "execution_count": null,
      "outputs": [
        {
          "output_type": "stream",
          "name": "stdout",
          "text": [
            "Enter the row3\n",
            "*  \n",
            "*  *  \n",
            "*  *  *  \n"
          ]
        }
      ]
    },
    {
      "cell_type": "code",
      "source": [],
      "metadata": {
        "id": "dJ6_obuOFv32"
      },
      "execution_count": null,
      "outputs": []
    }
  ]
}