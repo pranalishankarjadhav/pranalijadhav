{
  "nbformat": 4,
  "nbformat_minor": 0,
  "metadata": {
    "colab": {
      "provenance": [],
      "authorship_tag": "ABX9TyN5IwXCFp4qlByi47SnfMqw",
      "include_colab_link": true
    },
    "kernelspec": {
      "name": "python3",
      "display_name": "Python 3"
    },
    "language_info": {
      "name": "python"
    }
  },
  "cells": [
    {
      "cell_type": "markdown",
      "metadata": {
        "id": "view-in-github",
        "colab_type": "text"
      },
      "source": [
        "<a href=\"https://colab.research.google.com/github/pranalishankarjadhav/pranalijadhav/blob/main/Decision_making.ipynb\" target=\"_parent\"><img src=\"https://colab.research.google.com/assets/colab-badge.svg\" alt=\"Open In Colab\"/></a>"
      ]
    },
    {
      "cell_type": "code",
      "execution_count": null,
      "metadata": {
        "colab": {
          "base_uri": "https://localhost:8080/"
        },
        "id": "OHIxjoRojU0b",
        "outputId": "a0442122-c581-46b3-dada-15a05e32cf78"
      },
      "outputs": [
        {
          "output_type": "stream",
          "name": "stdout",
          "text": [
            "ENter the selliong price cost21\n",
            "Enter the purchase cost21\n",
            "Loss= 0\n"
          ]
        }
      ],
      "source": [
        "# read selling price and purchase price\n",
        "sprice=int(input('ENter the selliong price cost='))\n",
        "pprice=int(input('Enter the purchase cost='))\n",
        "if sprice>pprice:\n",
        "  print('Profit=',sprice-pprice)\n",
        "else:\n",
        " print(\"Loss=\",pprice-sprice)\n",
        "\n"
      ]
    },
    {
      "cell_type": "code",
      "source": [
        "#find profit or loss And jhow much\n"
      ],
      "metadata": {
        "id": "6SmgvMHDklWs"
      },
      "execution_count": null,
      "outputs": []
    },
    {
      "cell_type": "code",
      "source": [
        "#find the largest of 3 number\n",
        "a=int(input(\"Enter value of a\"))\n",
        "b=int(input(\"Enter value of b\"))\n",
        "c=int(input(\"Enter value of c\"))\n",
        "if a>b:\n",
        "  if a>c:\n",
        "    print(\"Greatest Number=\",a)\n",
        "  else:\n",
        "      print(\"Greatest Number=\",c)\n",
        "else :\n",
        "      if b>c:\n",
        "        print(\"Greatest Number=\",b)\n",
        "      else:\n",
        "        print(\"Greatest number=\",c)"
      ],
      "metadata": {
        "colab": {
          "base_uri": "https://localhost:8080/"
        },
        "id": "RXc0FkormhzL",
        "outputId": "d6677d73-b122-4506-ff14-5b240af3cf2b"
      },
      "execution_count": null,
      "outputs": [
        {
          "output_type": "stream",
          "name": "stdout",
          "text": [
            "Enter value of a10\n",
            "Enter value of b20\n",
            "Enter value of c30\n",
            "Greatest number= 30\n"
          ]
        }
      ]
    },
    {
      "cell_type": "code",
      "source": [
        "#2020\n",
        "#2018\n",
        "#2000\n",
        "#1800\n",
        "year=int(input(\"Enter the year\"))\n",
        "if year%4==0:\n",
        "  if year%100==0:\n",
        "    if year%400==0:\n",
        "      print(\"Leap century year\")\n",
        "    else:\n",
        "     print(\"Century nut not Leap year\")\n",
        "  else:\n",
        "    print(\" leap year\")\n",
        "else:\n",
        "  print(\"Not leap year\")"
      ],
      "metadata": {
        "colab": {
          "base_uri": "https://localhost:8080/"
        },
        "id": "t6wSIS1Ipjb5",
        "outputId": "ca9ced92-ea2d-497a-f4fb-8d542694709f"
      },
      "execution_count": null,
      "outputs": [
        {
          "output_type": "stream",
          "name": "stdout",
          "text": [
            "Enter the year2024\n",
            " leap year\n"
          ]
        }
      ]
    },
    {
      "cell_type": "code",
      "source": [
        "2000\n"
      ],
      "metadata": {
        "colab": {
          "base_uri": "https://localhost:8080/"
        },
        "id": "AOh5-b1fr-sO",
        "outputId": "1b66b2aa-1e49-4415-b409-503e07990364"
      },
      "execution_count": null,
      "outputs": [
        {
          "output_type": "execute_result",
          "data": {
            "text/plain": [
              "2000"
            ]
          },
          "metadata": {},
          "execution_count": 36
        }
      ]
    },
    {
      "cell_type": "code",
      "source": [
        "2024"
      ],
      "metadata": {
        "colab": {
          "base_uri": "https://localhost:8080/"
        },
        "id": "oxI_-UaFuRLq",
        "outputId": "307b375a-fc30-4ec7-a75d-bad854db23ef"
      },
      "execution_count": null,
      "outputs": [
        {
          "output_type": "execute_result",
          "data": {
            "text/plain": [
              "2024"
            ]
          },
          "metadata": {},
          "execution_count": 34
        }
      ]
    },
    {
      "cell_type": "code",
      "source": [
        "#Write a python program to input marks for 5 subjects physics,chemistry,biology,mathematics and computer and also calculate the percentage\n",
        "#According to following\n",
        "'''percentage>=90%:Grade A\n",
        "percentage>=80%:Grade B\n",
        "percentage>=70%:Grade C\n",
        "percentage>=60%:Grade D\n",
        "percentage>=40%:Grade E\n",
        "percentage<=40%:Grade F'''\n",
        "\n",
        "Physics=int(input(\"Enter the marks\"))\n",
        "Chemistry=int(input(\"Enter the marks\"))\n",
        "Bio=int(input(\"Enter the marks\"))\n",
        "Math=int(input(\"Enter the marks\"))\n",
        "Science=int(input(\"Enter the marks\"))\n",
        "Total=Physics+Chemistry+Bio+Math+Science\n",
        "per=(Total/500)*100\n",
        "if per>=90:\n",
        "  print(\"Grade A\")\n",
        "elif per>=80:\n",
        "  print(\"Grade B\")\n",
        "elif per>=70:\n",
        "  print(\"Grade C\")\n",
        "elif per>=60:\n",
        "  print(\"Grade D\")\n",
        "elif per>=40:\n",
        "  print(\"Grade E\")\n",
        "else:\n",
        "  print(\"Grade F\")\n",
        "\n",
        "\n",
        "\n"
      ],
      "metadata": {
        "colab": {
          "base_uri": "https://localhost:8080/"
        },
        "id": "8Q7c-Ar8ul0W",
        "outputId": "c46a072d-54fd-481a-b24f-d1f0a2088ca6"
      },
      "execution_count": null,
      "outputs": [
        {
          "output_type": "stream",
          "name": "stdout",
          "text": [
            "Enter the marks40\n",
            "Enter the marks50\n",
            "Enter the marks60\n",
            "Enter the marks70\n",
            "Enter the marks80\n",
            "Grade D\n"
          ]
        }
      ]
    },
    {
      "cell_type": "code",
      "source": [
        "#Menu Driven\n",
        "'''\n",
        "take number base on the choice perform\n",
        "1 square,2 cube,3 positive or negative'''\n",
        "num=int(input(\"Enter the number=\"))\n",
        "print(\"**MENU**\\n1.Square\\n2.Cube\\n3.Positive OR Negative\")\n",
        "choice=int(input(\"Enter the CHoice=\"))\n",
        "if choice==1:\n",
        "   print(\"Square=\",num*num)\n",
        "elif choice==2:\n",
        "   print(\"Cube=\",num**3)\n",
        "elif choice==3:\n",
        "   if num>0:\n",
        "     print(\"Positive Number\")\n",
        "   else:\n",
        "      print(\"Negative Number\")\n",
        "else:\n",
        "  print(\"You Enter Wrong Choice\")"
      ],
      "metadata": {
        "colab": {
          "base_uri": "https://localhost:8080/"
        },
        "id": "UJHXmwP9zFEu",
        "outputId": "e6d447e5-69e5-4cfe-a299-48427fb1241e"
      },
      "execution_count": null,
      "outputs": [
        {
          "output_type": "stream",
          "name": "stdout",
          "text": [
            "Enter the number=20\n",
            "**MENU**\n",
            "1.Square\n",
            "2.Cube\n",
            "3.Positive OR Negative\n",
            "Enter the CHoice=2\n",
            "Cube= 8000\n"
          ]
        }
      ]
    },
    {
      "cell_type": "code",
      "source": [
        "2"
      ],
      "metadata": {
        "colab": {
          "base_uri": "https://localhost:8080/"
        },
        "id": "UHC30F1w4BOo",
        "outputId": "3513ec9f-19ac-4360-b74d-33977313af97"
      },
      "execution_count": null,
      "outputs": [
        {
          "output_type": "execute_result",
          "data": {
            "text/plain": [
              "2"
            ]
          },
          "metadata": {},
          "execution_count": 43
        }
      ]
    },
    {
      "cell_type": "code",
      "source": [
        "'''take  2 number base on the choice perform\n",
        "1 Addition,2  floor Dev,3 check which one is largest'''\n",
        "\n",
        "num1=int(input(\"Enter the number 1=\"))\n",
        "num2=int(input(\"Enter the number 2=\"))\n",
        "\n",
        "print(\"**MENU**\\n1.Addition\\n2.Devision\\n3.Largest\")\n",
        "choice=int(input(\"Enter the CHoice=\"))\n",
        "if choice==1:\n",
        "   print(\"Addition=\",num1+num2)\n",
        "elif choice==2:\n",
        "   print(\"Devision=\",num1/num2)\n",
        "elif choice==3:\n",
        "   if num1>num2:\n",
        "     print(\"num1 is largest Number\")\n",
        "   else:\n",
        "      print(\"num2 is largest Number\")\n",
        "else:\n",
        "  print(\"You Enter Wrong Choice\")"
      ],
      "metadata": {
        "colab": {
          "base_uri": "https://localhost:8080/"
        },
        "id": "HjMxQoMM4HKk",
        "outputId": "e93111e8-e184-4593-bd72-9b37e3db1006"
      },
      "execution_count": null,
      "outputs": [
        {
          "output_type": "stream",
          "name": "stdout",
          "text": [
            "Enter the number 1=10\n",
            "Enter the number 2=20\n",
            "**MENU**\n",
            "1.Addition\n",
            "2.Devision\n",
            "3.Largest\n",
            "Enter the CHoice=1\n",
            "Addition= 30\n"
          ]
        }
      ]
    }
  ]
}