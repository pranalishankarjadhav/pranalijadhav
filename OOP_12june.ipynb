{
 "cells": [
  {
   "cell_type": "code",
   "execution_count": 5,
   "id": "064faf53",
   "metadata": {},
   "outputs": [],
   "source": [
    "class  Employee:#class created\n",
    "    pass"
   ]
  },
  {
   "cell_type": "code",
   "execution_count": 6,
   "id": "5485d53e",
   "metadata": {},
   "outputs": [],
   "source": [
    "emp1=Employee()#instance of class\n",
    "emp2=Employee()"
   ]
  },
  {
   "cell_type": "code",
   "execution_count": 7,
   "id": "e4ad15bc",
   "metadata": {},
   "outputs": [
    {
     "name": "stdout",
     "output_type": "stream",
     "text": [
      "<__main__.Employee object at 0x0000019FC97DCAD0>\n",
      "<__main__.Employee object at 0x0000019FC9861290>\n"
     ]
    }
   ],
   "source": [
    "print(emp1)\n",
    "print(emp2)"
   ]
  },
  {
   "cell_type": "code",
   "execution_count": 8,
   "id": "bf79a704",
   "metadata": {},
   "outputs": [],
   "source": [
    "emp1.first ='Natasha'#instance variable\n",
    "emp1.last ='Negi'\n",
    "emp1.salary ='52000'\n",
    "\n",
    "emp2.first ='Pranali'#instance variable\n",
    "emp2.last ='Jadhav'\n",
    "emp2.salary ='50000'"
   ]
  },
  {
   "cell_type": "code",
   "execution_count": 9,
   "id": "dede6121",
   "metadata": {},
   "outputs": [
    {
     "name": "stdout",
     "output_type": "stream",
     "text": [
      "Natasha\n"
     ]
    }
   ],
   "source": [
    "print(emp1.first)"
   ]
  },
  {
   "cell_type": "code",
   "execution_count": 10,
   "id": "c15afa66",
   "metadata": {},
   "outputs": [
    {
     "name": "stdout",
     "output_type": "stream",
     "text": [
      "50000\n"
     ]
    }
   ],
   "source": [
    "print(emp2.salary)"
   ]
  },
  {
   "cell_type": "code",
   "execution_count": 66,
   "id": "ba148a90",
   "metadata": {},
   "outputs": [],
   "source": [
    "class Employee:\n",
    "\n",
    "    def __init__(self,first,last,salary):\n",
    "        self.first=first #self is keyword similar as this keyword\n",
    "        self.last=last\n",
    "        self.salary=salary\n",
    "        \n",
    "    def show():\n",
    "        print(self.first +' '+'Ok')\n",
    "     \n",
    "    "
   ]
  },
  {
   "cell_type": "code",
   "execution_count": null,
   "id": "26f04630",
   "metadata": {},
   "outputs": [],
   "source": []
  },
  {
   "cell_type": "markdown",
   "id": "73e9af54",
   "metadata": {},
   "source": []
  },
  {
   "cell_type": "code",
   "execution_count": 67,
   "id": "361dc9ec",
   "metadata": {},
   "outputs": [],
   "source": [
    "emp1=Employee('Ravi','Tyagi',55000)\n",
    "emp2=Employee('Neha','Kulkarni',54000)"
   ]
  },
  {
   "cell_type": "code",
   "execution_count": 68,
   "id": "a0f88a9d",
   "metadata": {},
   "outputs": [
    {
     "data": {
      "text/plain": [
       "'Ravi'"
      ]
     },
     "execution_count": 68,
     "metadata": {},
     "output_type": "execute_result"
    }
   ],
   "source": [
    "emp1.first"
   ]
  },
  {
   "cell_type": "code",
   "execution_count": 69,
   "id": "cc82e416",
   "metadata": {},
   "outputs": [
    {
     "ename": "TypeError",
     "evalue": "Employee.show() takes 0 positional arguments but 1 was given",
     "output_type": "error",
     "traceback": [
      "\u001b[1;31m---------------------------------------------------------------------------\u001b[0m",
      "\u001b[1;31mTypeError\u001b[0m                                 Traceback (most recent call last)",
      "Cell \u001b[1;32mIn[69], line 1\u001b[0m\n\u001b[1;32m----> 1\u001b[0m emp1\u001b[38;5;241m.\u001b[39mshow()\n",
      "\u001b[1;31mTypeError\u001b[0m: Employee.show() takes 0 positional arguments but 1 was given"
     ]
    }
   ],
   "source": [
    "emp1.show()"
   ]
  },
  {
   "cell_type": "code",
   "execution_count": 62,
   "id": "5c4b146f",
   "metadata": {},
   "outputs": [],
   "source": [
    "#Encapsulation\n",
    "class Employee1:\n",
    "\n",
    "    def __init__(self,first,last,salary):\n",
    "        self.first=first #self is keyword similar as this keyword\n",
    "        self.last=last\n",
    "        self.__salary=salary#creating a private variable\n",
    "    def display(self):\n",
    "        print('salary is:',self.__salary)\n",
    "   \n",
    "    "
   ]
  },
  {
   "cell_type": "code",
   "execution_count": 63,
   "id": "a3db7871",
   "metadata": {},
   "outputs": [],
   "source": [
    "emp3=Employee1('Akash','Tyagi', 30000)\n",
    "emp4=Employee1('Pranav','Patil', 32000)"
   ]
  },
  {
   "cell_type": "code",
   "execution_count": 64,
   "id": "3b9be167",
   "metadata": {},
   "outputs": [
    {
     "data": {
      "text/plain": [
       "'Akash'"
      ]
     },
     "execution_count": 64,
     "metadata": {},
     "output_type": "execute_result"
    }
   ],
   "source": [
    "emp3.first"
   ]
  },
  {
   "cell_type": "code",
   "execution_count": 65,
   "id": "7bc884e3",
   "metadata": {},
   "outputs": [
    {
     "name": "stdout",
     "output_type": "stream",
     "text": [
      "salary is: 30000\n"
     ]
    }
   ],
   "source": [
    "emp3.display()"
   ]
  },
  {
   "cell_type": "code",
   "execution_count": 71,
   "id": "00aeb5c6",
   "metadata": {},
   "outputs": [],
   "source": [
    "#inheritance\n",
    "class Employee2(Employee1):\n",
    "    pass"
   ]
  },
  {
   "cell_type": "markdown",
   "id": "7a686591",
   "metadata": {},
   "source": []
  },
  {
   "cell_type": "code",
   "execution_count": 72,
   "id": "74a736f2",
   "metadata": {},
   "outputs": [],
   "source": [
    "emp5=Employee2('Aniket','Rana',60000)"
   ]
  },
  {
   "cell_type": "code",
   "execution_count": 73,
   "id": "0acc7cef",
   "metadata": {},
   "outputs": [
    {
     "name": "stdout",
     "output_type": "stream",
     "text": [
      "salary is: 60000\n"
     ]
    }
   ],
   "source": [
    "emp5.display()"
   ]
  },
  {
   "cell_type": "code",
   "execution_count": 88,
   "id": "42ddf7d6",
   "metadata": {},
   "outputs": [],
   "source": [
    "'''Create class called person\n",
    "take in name,age,hobby...(make use of default parameter also)\n",
    "create multiple objects\n",
    "create a method to display all the info'''\n",
    "\n",
    "class Person:\n",
    "\n",
    "    def __init__(self,name,age=22):\n",
    "        self.name=name #self is keyword similar as this keyword\n",
    "        self.age=age\n",
    "        \n",
    "        \n",
    "    def display(self):\n",
    "        print('Name is:',self.name)\n",
    "        print(' Age is:',self.age)\n",
    "        \n",
    "    \n",
    "   \n",
    "    \n"
   ]
  },
  {
   "cell_type": "code",
   "execution_count": 89,
   "id": "884cdf97",
   "metadata": {},
   "outputs": [],
   "source": [
    "p1=Person('Pranali',17)\n",
    "p2=Person('Sneha')\n",
    "p3=Person('Sakshi')\n",
    "p4=Person('Amruta',20)\n"
   ]
  },
  {
   "cell_type": "code",
   "execution_count": 90,
   "id": "f6737455",
   "metadata": {},
   "outputs": [
    {
     "name": "stdout",
     "output_type": "stream",
     "text": [
      "Name is: Pranali\n",
      " Age is: 17\n"
     ]
    }
   ],
   "source": [
    "p1.display()"
   ]
  },
  {
   "cell_type": "code",
   "execution_count": 91,
   "id": "f823d562",
   "metadata": {},
   "outputs": [
    {
     "name": "stdout",
     "output_type": "stream",
     "text": [
      "Name is: Sneha\n",
      " Age is: 22\n"
     ]
    }
   ],
   "source": [
    "p2.display()"
   ]
  },
  {
   "cell_type": "code",
   "execution_count": null,
   "id": "cc2305f6",
   "metadata": {},
   "outputs": [],
   "source": []
  }
 ],
 "metadata": {
  "kernelspec": {
   "display_name": "Python 3 (ipykernel)",
   "language": "python",
   "name": "python3"
  },
  "language_info": {
   "codemirror_mode": {
    "name": "ipython",
    "version": 3
   },
   "file_extension": ".py",
   "mimetype": "text/x-python",
   "name": "python",
   "nbconvert_exporter": "python",
   "pygments_lexer": "ipython3",
   "version": "3.11.7"
  }
 },
 "nbformat": 4,
 "nbformat_minor": 5
}
